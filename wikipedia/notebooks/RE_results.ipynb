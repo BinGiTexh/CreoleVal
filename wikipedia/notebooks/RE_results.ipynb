{
 "cells": [
  {
   "cell_type": "code",
   "execution_count": 2,
   "id": "d0f2a8ca-8a6b-43c4-8bee-ac0e21f7c13b",
   "metadata": {},
   "outputs": [
    {
     "name": "stdout",
     "output_type": "stream",
     "text": [
      "Intel MKL WARNING: Support of Intel(R) Streaming SIMD Extensions 4.2 (Intel(R) SSE4.2) enabled only processors has been deprecated. Intel oneAPI Math Kernel Library 2025.0 will require Intel(R) Advanced Vector Extensions (Intel(R) AVX) instructions.\n",
      "Intel MKL WARNING: Support of Intel(R) Streaming SIMD Extensions 4.2 (Intel(R) SSE4.2) enabled only processors has been deprecated. Intel oneAPI Math Kernel Library 2025.0 will require Intel(R) Advanced Vector Extensions (Intel(R) AVX) instructions.\n"
     ]
    }
   ],
   "source": [
    "import json \n",
    "import pandas as pd\n",
    "import os"
   ]
  },
  {
   "cell_type": "code",
   "execution_count": 1,
   "id": "0c0de641-469a-428c-94ab-1f5f3424373f",
   "metadata": {},
   "outputs": [],
   "source": [
    "folder = \"../data/relation_extraction/results_report/01\""
   ]
  },
  {
   "cell_type": "code",
   "execution_count": 3,
   "id": "5550f7ff-2765-4ce1-b7c7-1a5ac2b7b38a",
   "metadata": {},
   "outputs": [
    {
     "name": "stdout",
     "output_type": "stream",
     "text": [
      "bi.json\n",
      "              precision    recall  f1-score    support\n",
      "P106           0.923077  0.827586  0.872727  29.000000\n",
      "P131           0.000000  0.000000  0.000000  11.000000\n",
      "P1376          0.400000  0.125000  0.190476  16.000000\n",
      "P17            0.000000  0.000000  0.000000  10.000000\n",
      "P30            0.933333  0.736842  0.823529  19.000000\n",
      "P39            0.444444  0.888889  0.592593   9.000000\n",
      "P495           0.083333  0.333333  0.133333   3.000000\n",
      "accuracy       0.505155  0.505155  0.505155   0.505155\n",
      "macro avg      0.397741  0.415950  0.373237  97.000000\n",
      "weighted avg   0.568583  0.505155  0.512754  97.000000\n",
      "jam.json\n",
      "              precision    recall  f1-score    support\n",
      "P106           1.000000  0.363636  0.533333  11.000000\n",
      "P131           0.000000  0.000000  0.000000  17.000000\n",
      "P1376          0.000000  0.000000  0.000000  15.000000\n",
      "P17            0.333333  0.500000  0.400000   2.000000\n",
      "P2341          0.000000  0.000000  0.000000   1.000000\n",
      "P2936          0.000000  0.000000  0.000000   3.000000\n",
      "P30            1.000000  0.333333  0.500000  24.000000\n",
      "P31            0.413793  1.000000  0.585366  12.000000\n",
      "P36            0.000000  0.000000  0.000000   1.000000\n",
      "P37            0.111111  0.333333  0.166667   3.000000\n",
      "P39            0.285714  1.000000  0.444444   4.000000\n",
      "P495           0.000000  0.000000  0.000000   4.000000\n",
      "accuracy       0.309278  0.309278  0.309278   0.309278\n",
      "macro avg      0.261996  0.294192  0.219151  97.000000\n",
      "weighted avg   0.434107  0.309278  0.288339  97.000000\n",
      "cbk-zam.json\n",
      "              precision    recall  f1-score    support\n",
      "P106           1.000000  1.000000  1.000000  44.000000\n",
      "P131           0.000000  0.000000  0.000000   4.000000\n",
      "P1376          0.000000  0.000000  0.000000  10.000000\n",
      "P17            0.697674  1.000000  0.821918  30.000000\n",
      "P30            0.888889  1.000000  0.941176   8.000000\n",
      "P361           0.000000  0.000000  0.000000   1.000000\n",
      "accuracy       0.845361  0.845361  0.845361   0.845361\n",
      "macro avg      0.431094  0.500000  0.460516  97.000000\n",
      "weighted avg   0.742694  0.845361  0.785432  97.000000\n",
      "tpi.json\n",
      "              precision    recall  f1-score    support\n",
      "P131           0.222222  0.166667  0.190476  12.000000\n",
      "P1376          0.000000  0.000000  0.000000  11.000000\n",
      "P17            0.523810  0.323529  0.400000  34.000000\n",
      "P30            0.571429  0.250000  0.347826  16.000000\n",
      "P36            0.500000  1.000000  0.666667   7.000000\n",
      "P361           0.000000  0.000000  0.000000   1.000000\n",
      "P39            0.533333  1.000000  0.695652  16.000000\n",
      "accuracy       0.412371  0.412371  0.412371   0.412371\n",
      "macro avg      0.335828  0.391457  0.328660  97.000000\n",
      "weighted avg   0.429406  0.412371  0.384000  97.000000\n",
      "pih.json\n",
      "              precision    recall  f1-score    support\n",
      "P106           0.888889  0.941176  0.914286  17.000000\n",
      "P131           0.076923  0.500000  0.133333   2.000000\n",
      "P1376          0.090909  0.076923  0.083333  13.000000\n",
      "P17            0.500000  0.235294  0.320000  17.000000\n",
      "P2341          0.200000  0.142857  0.166667   7.000000\n",
      "P30            1.000000  0.176471  0.300000  17.000000\n",
      "P31            0.413793  0.571429  0.480000  21.000000\n",
      "P361           0.000000  0.000000  0.000000   3.000000\n",
      "accuracy       0.391753  0.391753  0.391753   0.391753\n",
      "macro avg      0.396314  0.330519  0.299702  97.000000\n",
      "weighted avg   0.536458  0.391753  0.398758  97.000000\n"
     ]
    }
   ],
   "source": [
    "for file in os.listdir(folder):\n",
    "    if not file.startswith(\".\"):\n",
    "        filepath = os.path.join(folder, file)\n",
    "        df = pd.read_json(filepath).T\n",
    "        print(file)\n",
    "        print(df)"
   ]
  },
  {
   "cell_type": "code",
   "execution_count": null,
   "id": "2e441225-7645-4aaf-b1ac-724e5c6398a4",
   "metadata": {},
   "outputs": [],
   "source": [
    "# 00 output"
   ]
  },
  {
   "cell_type": "code",
   "execution_count": 12,
   "id": "849c26d7-b347-4dc3-98fb-16620d6a79e8",
   "metadata": {},
   "outputs": [
    {
     "name": "stdout",
     "output_type": "stream",
     "text": [
      "bi.json\n",
      "              precision    recall  f1-score    support\n",
      "P106           0.923077  0.800000  0.857143  30.000000\n",
      "P131           0.000000  0.000000  0.000000  11.000000\n",
      "P1376          0.400000  0.125000  0.190476  16.000000\n",
      "P17            0.000000  0.000000  0.000000  10.000000\n",
      "P30            0.933333  0.736842  0.823529  19.000000\n",
      "P39            0.473684  0.900000  0.620690  10.000000\n",
      "P495           0.083333  0.333333  0.133333   3.000000\n",
      "accuracy       0.505051  0.505051  0.505051   0.505051\n",
      "macro avg      0.401918  0.413596  0.375024  99.000000\n",
      "weighted avg   0.573863  0.505051  0.515312  99.000000\n",
      "jam.json\n",
      "              precision    recall  f1-score    support\n",
      "P106           1.000000  0.363636  0.533333  11.000000\n",
      "P131           0.000000  0.000000  0.000000  17.000000\n",
      "P1376          0.000000  0.000000  0.000000  15.000000\n",
      "P17            0.333333  0.500000  0.400000   2.000000\n",
      "P2341          0.000000  0.000000  0.000000   1.000000\n",
      "P2936          0.000000  0.000000  0.000000   3.000000\n",
      "P30            1.000000  0.333333  0.500000  24.000000\n",
      "P31            0.413793  1.000000  0.585366  12.000000\n",
      "P36            0.000000  0.000000  0.000000   1.000000\n",
      "P37            0.111111  0.333333  0.166667   3.000000\n",
      "P39            0.285714  1.000000  0.444444   4.000000\n",
      "P495           0.000000  0.000000  0.000000   4.000000\n",
      "accuracy       0.309278  0.309278  0.309278   0.309278\n",
      "macro avg      0.261996  0.294192  0.219151  97.000000\n",
      "weighted avg   0.434107  0.309278  0.288339  97.000000\n",
      "cbk-zam.json\n",
      "              precision    recall  f1-score    support\n",
      "P106           1.000000  1.000000  1.000000  44.000000\n",
      "P131           0.000000  0.000000  0.000000   4.000000\n",
      "P1376          0.000000  0.000000  0.000000  11.000000\n",
      "P17            0.681818  1.000000  0.810811  30.000000\n",
      "P30            0.888889  1.000000  0.941176   8.000000\n",
      "P361           0.000000  0.000000  0.000000   1.000000\n",
      "accuracy       0.836735  0.836735  0.836735   0.836735\n",
      "macro avg      0.428451  0.500000  0.458665  98.000000\n",
      "weighted avg   0.730262  0.836735  0.774018  98.000000\n",
      "tpi.json\n",
      "              precision    recall  f1-score    support\n",
      "P131           0.200000  0.166667  0.181818   12.00000\n",
      "P1376          0.000000  0.000000  0.000000   12.00000\n",
      "P17            0.545455  0.292683  0.380952   41.00000\n",
      "P30            0.571429  0.235294  0.333333   17.00000\n",
      "P36            0.500000  1.000000  0.666667    7.00000\n",
      "P361           0.000000  0.000000  0.000000    1.00000\n",
      "P39            0.527778  1.000000  0.690909   19.00000\n",
      "accuracy       0.403670  0.403670  0.403670    0.40367\n",
      "macro avg      0.334952  0.384949  0.321954  109.00000\n",
      "weighted avg   0.440419  0.403670  0.378546  109.00000\n",
      "pih.json\n",
      "              precision    recall  f1-score  support\n",
      "P106           0.894737  0.944444  0.918919    18.00\n",
      "P131           0.076923  0.500000  0.133333     2.00\n",
      "P1376          0.090909  0.076923  0.083333    13.00\n",
      "P17            0.500000  0.235294  0.320000    17.00\n",
      "P2341          0.200000  0.142857  0.166667     7.00\n",
      "P30            1.000000  0.157895  0.272727    19.00\n",
      "P31            0.387097  0.571429  0.461538    21.00\n",
      "P361           0.000000  0.000000  0.000000     3.00\n",
      "accuracy       0.390000  0.390000  0.390000     0.39\n",
      "macro avg      0.393708  0.328605  0.294565   100.00\n",
      "weighted avg   0.544700  0.390000  0.393713   100.00\n"
     ]
    }
   ],
   "source": [
    "for file in os.listdir(folder):\n",
    "    if not file.startswith(\".\"):\n",
    "        filepath = os.path.join(folder, file)\n",
    "        df = pd.read_json(filepath).T\n",
    "        print(file)\n",
    "        print(df)"
   ]
  },
  {
   "cell_type": "code",
   "execution_count": null,
   "id": "96fab09f-43a9-4bdf-8186-28effd30565f",
   "metadata": {},
   "outputs": [],
   "source": []
  }
 ],
 "metadata": {
  "kernelspec": {
   "display_name": "re",
   "language": "python",
   "name": "re"
  },
  "language_info": {
   "codemirror_mode": {
    "name": "ipython",
    "version": 3
   },
   "file_extension": ".py",
   "mimetype": "text/x-python",
   "name": "python",
   "nbconvert_exporter": "python",
   "pygments_lexer": "ipython3",
   "version": "3.10.11"
  }
 },
 "nbformat": 4,
 "nbformat_minor": 5
}
