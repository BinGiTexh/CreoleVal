{
 "cells": [
  {
   "cell_type": "code",
   "execution_count": 37,
   "id": "7af67f02-bd28-46f1-b3ba-53d2b372d7ba",
   "metadata": {
    "tags": []
   },
   "outputs": [],
   "source": [
    "import pandas as pd\n",
    "import os\n",
    "import glob\n",
    "from ast import literal_eval"
   ]
  },
  {
   "cell_type": "code",
   "execution_count": 4,
   "id": "dc540420-4359-4958-98fc-69ec3c562249",
   "metadata": {
    "tags": []
   },
   "outputs": [],
   "source": [
    "result_dir = \"../data/relation_extraction/qcodes\""
   ]
  },
  {
   "cell_type": "code",
   "execution_count": 31,
   "id": "d9aee26c-60a3-4157-be89-db02eafa5650",
   "metadata": {
    "tags": []
   },
   "outputs": [],
   "source": [
    "property_dir = \"../data/relation_extraction/properties\""
   ]
  },
  {
   "cell_type": "code",
   "execution_count": 59,
   "id": "fad0d800-6661-497e-b854-6779a3478244",
   "metadata": {
    "tags": []
   },
   "outputs": [],
   "source": [
    "df_pih = pd.read_csv( f\"{result_dir}/pih.csv\")"
   ]
  },
  {
   "cell_type": "code",
   "execution_count": 63,
   "id": "eea69be0-e139-459c-be63-7ccfa9474cc4",
   "metadata": {
    "tags": []
   },
   "outputs": [],
   "source": [
    "def strech_dfs(file ,outputfile):\n",
    "    df= pd.read_csv(file)\n",
    "    props=[]\n",
    "    e1s =[]\n",
    "    e2s=[]\n",
    "    sentences=[]\n",
    "    for prop, e1, e2, sentence in zip(df[\"Property\"], df[\"e1\"], df[\"e2\"], df[\"Sentence\"]):\n",
    "        if \",\" in prop:\n",
    "            prop1,prop2 = prop.split(\",\")\n",
    "            props.append(prop1)\n",
    "            props.append(prop2)\n",
    "            e1s.append(e1)\n",
    "            e1s.append(e1)\n",
    "            e2s.append(e2)\n",
    "            e2s.append(e2)\n",
    "            sentences.append(sentence)\n",
    "            sentences.append(sentence)\n",
    "        else:\n",
    "            props.append(prop)\n",
    "            e1s.append(e1)\n",
    "            e2s.append(e2)\n",
    "            sentences.append(sentence)\n",
    "    df_new = pd.DataFrame.from_dict({\n",
    "        \"Property\":props,\n",
    "        \"e1\":e1s,\n",
    "        \"e2\":e2s,\n",
    "        \"Sentence\":sentences\n",
    "        })\n",
    "    df_new.to_csv(outputfile, index=False)\n",
    "    "
   ]
  },
  {
   "cell_type": "code",
   "execution_count": 64,
   "id": "495975d1-4b68-483b-910a-5d09b0a771de",
   "metadata": {
    "tags": []
   },
   "outputs": [],
   "source": [
    "for lang in [\"bi\", \"cbk-zam\", \"ht\", \"jam\", \"pih\", \"tpi\"]:\n",
    "    file = f\"{result_dir}/{lang}.csv\"\n",
    "    outputfile = f\"../data/relation_extraction/streched_df/{lang}.csv\"\n",
    "    strech_dfs(file ,outputfile)"
   ]
  },
  {
   "cell_type": "code",
   "execution_count": null,
   "id": "106531ab-c698-4ec1-81de-5d53f1b8cfaf",
   "metadata": {},
   "outputs": [],
   "source": []
  },
  {
   "cell_type": "code",
   "execution_count": 77,
   "id": "db8ec6f4-5f86-4ffa-b629-0e30d911083c",
   "metadata": {
    "tags": []
   },
   "outputs": [],
   "source": [
    "def is_triple(prop, prop_list):\n",
    "    try:\n",
    "        if prop in prop_list:\n",
    "            return True\n",
    "        else:\n",
    "            return False\n",
    "    except Exception:\n",
    "        return False"
   ]
  },
  {
   "cell_type": "code",
   "execution_count": 80,
   "id": "53f3a5e4-851a-4a7c-8577-1354f62fe5b3",
   "metadata": {
    "tags": []
   },
   "outputs": [],
   "source": [
    "def merge_files(lang):\n",
    "    df_prop = pd.read_csv( f\"{property_dir}/{lang}.csv\", sep=\"\\t\")\n",
    "    df= pd.read_csv( f\"../data/relation_extraction/streched_df/{lang}.csv\")\n",
    "    df_prop[\"Properties\"]=df_prop[\"Properties\"].map(literal_eval, na_action=\"ignore\")\n",
    "    df_prop =df_prop.rename(columns={\"ENT1\":\"e1\", \"ENT2\":\"e2\"})\n",
    "    df_merge = pd.merge(df, df_prop, how=\"left\", on=[\"e1\", \"e2\"])\n",
    "    df_merge[\"TripleInWD\"]= df_merge[[\"Property\", \"Properties\"]].apply(lambda x: is_triple(*x), axis=1)\n",
    "    df_merge.to_csv(f\"../data/relation_extraction/results/{lang}.csv\", index=False)\n",
    "    "
   ]
  },
  {
   "cell_type": "code",
   "execution_count": 81,
   "id": "c89d2780-4bc1-4cae-ba23-645e9760a584",
   "metadata": {
    "tags": []
   },
   "outputs": [],
   "source": [
    "for lang in [\"bi\", \"cbk-zam\", \"ht\", \"jam\", \"pih\", \"tpi\"]:\n",
    "    merge_files(lang)"
   ]
  },
  {
   "cell_type": "code",
   "execution_count": null,
   "id": "c996c87b-fbb4-4695-8af5-65cf23f5f8ff",
   "metadata": {},
   "outputs": [],
   "source": []
  },
  {
   "cell_type": "code",
   "execution_count": 2,
   "id": "04d9415a-62ce-4c60-bc92-5f198d261f59",
   "metadata": {
    "tags": []
   },
   "outputs": [],
   "source": [
    "data_dir = \"../data/creoles_relation_classification_pre_verified/\""
   ]
  },
  {
   "cell_type": "code",
   "execution_count": 30,
   "id": "efc33ef8-ce61-4120-9467-8f434103da00",
   "metadata": {
    "tags": []
   },
   "outputs": [
    {
     "name": "stdout",
     "output_type": "stream",
     "text": [
      "bi\n",
      "set()\n",
      "set()\n",
      "cbk-zam\n",
      "set()\n",
      "set()\n",
      "ht\n",
      "{'[[Somon se yon [[pwason]].', '[[Lisbòn]] se [[kapital]] [[Pòtigal]].'}\n",
      "{'[[Somon]] se yon [[pwason]].', '[[Lisbòn]] se kapital [[Pòtigal]].'}\n",
      "jam\n",
      "{'[[Matamala]] de Almazán a wahn miunisipaliti luokiet ina di pravins a [[Soria]], Kiastiil ahn León, Spien.', '[[Aluuminom]] a wah [[kimikal eliment]] ina di [[buoran]] gruup wid simbal Al ah atamik nomba 13.'}\n",
      "{'[[Matamala de Almazán]] a wahn miunisipaliti luokiet ina di pravins a [[Soria]], Kiastiil ahn León, Spien.', '[[Aluuminom]] a wah [[kimikal eliment]] ina di buoran gruup wid simbal Al ah atamik nomba 13.'}\n",
      "pih\n",
      "{'[[Abel Askoena]] (Ieprel 1, 1988, [[Madrid]]; fuul naem esa Abel Askoena Markuus) esa wun Spanish [[akter]].'}\n",
      "{'[[Abel Askoena]] (Ieprel 1, 1988, Madrid; fuul naem esa Abel Askoena Markuus) esa wun Spanish [[akter]].'}\n",
      "tpi\n",
      "{'[[Vilnius]] i [[kapitol]] bilong [[Lituwenia]].', '[[Toomas Hendrik]] Ilves i [[presiden]] bilong Estonia.', '[[Sofia]] em i [[kapitol]] long kantri [[Balgeria]].'}\n",
      "{'[[Vilnius]] i kapitol bilong [[Lituwenia]].', '[[Toomas Hendrik Ilves]] i [[presiden]] bilong Estonia.'}\n"
     ]
    }
   ],
   "source": [
    "for lang in [\"bi\", \"cbk-zam\", \"ht\", \"jam\", \"pih\", \"tpi\"]:\n",
    "    print(lang)\n",
    "    df_input = pd.read_csv(f\"{data_dir}2023-04-24-{lang}.csv\", sep=\"|\")\n",
    "    input_sentences = df_input[\"Sentence\"].to_list()\n",
    "    df_output = pd.read_csv(f\"{result_dir}/{lang}.csv\")\n",
    "    output_sentences = df_output[\"Sentence\"].tolist()\n",
    "    print(set(input_sentences).difference(set(output_sentences)))\n",
    "    print(set(output_sentences).difference(set(input_sentences)))\n"
   ]
  },
  {
   "cell_type": "code",
   "execution_count": null,
   "id": "df0ca53d-e7f6-40e7-a510-d1803aff5ca6",
   "metadata": {},
   "outputs": [],
   "source": []
  },
  {
   "cell_type": "code",
   "execution_count": null,
   "id": "5381f5b4-b390-4640-aab6-65ccbb097f46",
   "metadata": {},
   "outputs": [],
   "source": []
  },
  {
   "cell_type": "code",
   "execution_count": 27,
   "id": "0ff7c672-cf14-4007-b6f1-7fe39de76186",
   "metadata": {
    "tags": []
   },
   "outputs": [],
   "source": [
    "def stretch_data(df):\n",
    "    properties = df[\"Property\"].tolist()\n",
    "    properties = [x.split(\",\") if \",\" in x else x for x in properties ]\n",
    "    "
   ]
  },
  {
   "cell_type": "code",
   "execution_count": 25,
   "id": "31d18ad8-009f-402f-9865-36a82ade57b9",
   "metadata": {
    "tags": []
   },
   "outputs": [
    {
     "name": "stdout",
     "output_type": "stream",
     "text": [
      "../data/relation_extraction/qcodes/jam.csv\n",
      "99 99\n",
      "Empty DataFrame\n",
      "Columns: [Property, e1, e2, Sentence, same]\n",
      "Index: []\n",
      "../data/relation_extraction/qcodes/ht.csv\n",
      "98 98\n",
      "Empty DataFrame\n",
      "Columns: [Property, e1, e2, Sentence, same]\n",
      "Index: []\n",
      "../data/relation_extraction/qcodes/bi.csv\n",
      "100 100\n",
      "Empty DataFrame\n",
      "Columns: [Property, e1, e2, Sentence, same]\n",
      "Index: []\n",
      "../data/relation_extraction/qcodes/cbk-zam.csv\n",
      "100 100\n",
      "Empty DataFrame\n",
      "Columns: [Property, e1, e2, Sentence, same]\n",
      "Index: []\n",
      "../data/relation_extraction/qcodes/pih.csv\n",
      "99 99\n",
      "Empty DataFrame\n",
      "Columns: [Property, e1, e2, Sentence, same]\n",
      "Index: []\n",
      "../data/relation_extraction/qcodes/tpi.csv\n",
      "98 98\n",
      "Empty DataFrame\n",
      "Columns: [Property, e1, e2, Sentence, same]\n",
      "Index: []\n"
     ]
    }
   ],
   "source": [
    "for file in glob.glob(f\"{result_dir}/**.csv\"):\n",
    "    print(file)\n",
    "    df = pd.read_csv(file)\n",
    "    df[\"same\"]= df[\"e1\"]==df[\"e2\"]\n",
    "    \n",
    "    print(len(df), len(df.dropna()))\n",
    "    \n",
    "    print(df[df[\"same\"]==True])"
   ]
  },
  {
   "cell_type": "code",
   "execution_count": 15,
   "id": "2c7bf641-95fc-4d9c-94b2-68c1e379045f",
   "metadata": {
    "tags": []
   },
   "outputs": [
    {
     "name": "stdout",
     "output_type": "stream",
     "text": [
      "jam\n",
      "99 99\n",
      "bi\n",
      "100 100\n",
      "tpi\n",
      "98 97\n",
      "pih\n",
      "99 91\n",
      "cbk-zam\n",
      "100 100\n",
      "ht\n",
      "98 98\n"
     ]
    }
   ],
   "source": [
    "\n",
    "for file in glob.glob(f\"{data_dir}**_output.csv\"):\n",
    "    lang = file.replace(\"../data/creoles_relation_classification_pre_verified/2023-04-24-\", \"\").replace(\"_output.csv\",\"\")\n",
    "    print(lang)\n",
    "    df = pd.read_csv(file)\n",
    "    df[\"e1\"] = df[\"e1\"].str.replace(\"QQ\", \"Q\")\n",
    "    df[\"e2\"] = df[\"e2\"].str.replace(\"QQ\", \"Q\")\n",
    "    print(len(df), len(df.dropna()))\n",
    "    df.to_csv(f\"{result_dir}/{lang}.csv\", index=False)"
   ]
  },
  {
   "cell_type": "code",
   "execution_count": 7,
   "id": "17faf33f-7f7f-4200-8a74-12ba452d6b41",
   "metadata": {
    "tags": []
   },
   "outputs": [],
   "source": [
    "df = pd.read_csv(\"../data/creoles_relation_classification_pre_verified/2023-04-24-jam_output.csv\")"
   ]
  },
  {
   "cell_type": "code",
   "execution_count": 8,
   "id": "270552cd-f77c-4155-870b-2d415ee82539",
   "metadata": {
    "tags": []
   },
   "outputs": [
    {
     "data": {
      "text/html": [
       "<div>\n",
       "<style scoped>\n",
       "    .dataframe tbody tr th:only-of-type {\n",
       "        vertical-align: middle;\n",
       "    }\n",
       "\n",
       "    .dataframe tbody tr th {\n",
       "        vertical-align: top;\n",
       "    }\n",
       "\n",
       "    .dataframe thead th {\n",
       "        text-align: right;\n",
       "    }\n",
       "</style>\n",
       "<table border=\"1\" class=\"dataframe\">\n",
       "  <thead>\n",
       "    <tr style=\"text-align: right;\">\n",
       "      <th></th>\n",
       "      <th>Property</th>\n",
       "      <th>e1</th>\n",
       "      <th>e2</th>\n",
       "      <th>Sentence</th>\n",
       "    </tr>\n",
       "  </thead>\n",
       "  <tbody>\n",
       "    <tr>\n",
       "      <th>0</th>\n",
       "      <td>P36</td>\n",
       "      <td>QQ45</td>\n",
       "      <td>QQ597</td>\n",
       "      <td>Di kiapital a [[Puotigal]] niem \"[[Lizban]]\".</td>\n",
       "    </tr>\n",
       "    <tr>\n",
       "      <th>1</th>\n",
       "      <td>P1376</td>\n",
       "      <td>QQ472</td>\n",
       "      <td>QQ219</td>\n",
       "      <td>[[Sofiya]] a di kiapital fi [[Bulgieria]].</td>\n",
       "    </tr>\n",
       "    <tr>\n",
       "      <th>2</th>\n",
       "      <td>P1376</td>\n",
       "      <td>QQ239</td>\n",
       "      <td>QQ31</td>\n",
       "      <td>[[Broslz]] a di kiapital fi [[Beljiom]].</td>\n",
       "    </tr>\n",
       "    <tr>\n",
       "      <th>3</th>\n",
       "      <td>P1376</td>\n",
       "      <td>QQ220</td>\n",
       "      <td>QQ38</td>\n",
       "      <td>[[Ruom]] a di kyapital fi [[Itali]].</td>\n",
       "    </tr>\n",
       "    <tr>\n",
       "      <th>4</th>\n",
       "      <td>P1376</td>\n",
       "      <td>QQ649</td>\n",
       "      <td>QQ159</td>\n",
       "      <td>[[Masko]] a di kyapital fi [[Rosha]].</td>\n",
       "    </tr>\n",
       "    <tr>\n",
       "      <th>...</th>\n",
       "      <td>...</td>\n",
       "      <td>...</td>\n",
       "      <td>...</td>\n",
       "      <td>...</td>\n",
       "    </tr>\n",
       "    <tr>\n",
       "      <th>94</th>\n",
       "      <td>P31</td>\n",
       "      <td>QQ682</td>\n",
       "      <td>Q11344</td>\n",
       "      <td>[[Solfa]] a di [[kimikal eliment]] wid simbal ...</td>\n",
       "    </tr>\n",
       "    <tr>\n",
       "      <th>95</th>\n",
       "      <td>P31</td>\n",
       "      <td>QQ627</td>\n",
       "      <td>Q11344</td>\n",
       "      <td>[[Naichojen]] a wah [[kimikal eliment]] wid si...</td>\n",
       "    </tr>\n",
       "    <tr>\n",
       "      <th>96</th>\n",
       "      <td>P31</td>\n",
       "      <td>QQ629</td>\n",
       "      <td>Q11344</td>\n",
       "      <td>[[Axijen]] a wah [[kimikal eliment]] wid simba...</td>\n",
       "    </tr>\n",
       "    <tr>\n",
       "      <th>97</th>\n",
       "      <td>P31</td>\n",
       "      <td>QQ556</td>\n",
       "      <td>Q11344</td>\n",
       "      <td>[[Aijrojin]] a wah [[kimikal eliment]] wid kim...</td>\n",
       "    </tr>\n",
       "    <tr>\n",
       "      <th>98</th>\n",
       "      <td>P31</td>\n",
       "      <td>QQ897</td>\n",
       "      <td>Q11344</td>\n",
       "      <td>[[Guol]] a [[kimikal eliment]] wid di simbal A...</td>\n",
       "    </tr>\n",
       "  </tbody>\n",
       "</table>\n",
       "<p>99 rows × 4 columns</p>\n",
       "</div>"
      ],
      "text/plain": [
       "   Property     e1      e2                                           Sentence\n",
       "0       P36   QQ45   QQ597      Di kiapital a [[Puotigal]] niem \"[[Lizban]]\".\n",
       "1     P1376  QQ472   QQ219         [[Sofiya]] a di kiapital fi [[Bulgieria]].\n",
       "2     P1376  QQ239    QQ31           [[Broslz]] a di kiapital fi [[Beljiom]].\n",
       "3     P1376  QQ220    QQ38               [[Ruom]] a di kyapital fi [[Itali]].\n",
       "4     P1376  QQ649   QQ159              [[Masko]] a di kyapital fi [[Rosha]].\n",
       "..      ...    ...     ...                                                ...\n",
       "94      P31  QQ682  Q11344  [[Solfa]] a di [[kimikal eliment]] wid simbal ...\n",
       "95      P31  QQ627  Q11344  [[Naichojen]] a wah [[kimikal eliment]] wid si...\n",
       "96      P31  QQ629  Q11344  [[Axijen]] a wah [[kimikal eliment]] wid simba...\n",
       "97      P31  QQ556  Q11344  [[Aijrojin]] a wah [[kimikal eliment]] wid kim...\n",
       "98      P31  QQ897  Q11344  [[Guol]] a [[kimikal eliment]] wid di simbal A...\n",
       "\n",
       "[99 rows x 4 columns]"
      ]
     },
     "execution_count": 8,
     "metadata": {},
     "output_type": "execute_result"
    }
   ],
   "source": [
    "df"
   ]
  },
  {
   "cell_type": "code",
   "execution_count": 11,
   "id": "e1b8c9d2-5363-49e3-a040-9df8b4e2e947",
   "metadata": {
    "tags": []
   },
   "outputs": [],
   "source": [
    "df[\"e1\"] = df[\"e1\"].str.replace(\"QQ\", \"Q\")"
   ]
  },
  {
   "cell_type": "code",
   "execution_count": 12,
   "id": "52184e63-641f-4039-a095-f10a51c65d86",
   "metadata": {
    "tags": []
   },
   "outputs": [],
   "source": [
    "df[\"e2\"] = df[\"e2\"].str.replace(\"QQ\", \"Q\")"
   ]
  },
  {
   "cell_type": "code",
   "execution_count": 14,
   "id": "18f47100-0f0b-4308-a7de-0b07ae43a56c",
   "metadata": {
    "tags": []
   },
   "outputs": [
    {
     "data": {
      "text/html": [
       "<div>\n",
       "<style scoped>\n",
       "    .dataframe tbody tr th:only-of-type {\n",
       "        vertical-align: middle;\n",
       "    }\n",
       "\n",
       "    .dataframe tbody tr th {\n",
       "        vertical-align: top;\n",
       "    }\n",
       "\n",
       "    .dataframe thead th {\n",
       "        text-align: right;\n",
       "    }\n",
       "</style>\n",
       "<table border=\"1\" class=\"dataframe\">\n",
       "  <thead>\n",
       "    <tr style=\"text-align: right;\">\n",
       "      <th></th>\n",
       "      <th>Property</th>\n",
       "      <th>e1</th>\n",
       "      <th>e2</th>\n",
       "      <th>Sentence</th>\n",
       "    </tr>\n",
       "  </thead>\n",
       "  <tbody>\n",
       "    <tr>\n",
       "      <th>0</th>\n",
       "      <td>P36</td>\n",
       "      <td>Q45</td>\n",
       "      <td>Q597</td>\n",
       "      <td>Di kiapital a [[Puotigal]] niem \"[[Lizban]]\".</td>\n",
       "    </tr>\n",
       "    <tr>\n",
       "      <th>1</th>\n",
       "      <td>P1376</td>\n",
       "      <td>Q472</td>\n",
       "      <td>Q219</td>\n",
       "      <td>[[Sofiya]] a di kiapital fi [[Bulgieria]].</td>\n",
       "    </tr>\n",
       "    <tr>\n",
       "      <th>2</th>\n",
       "      <td>P1376</td>\n",
       "      <td>Q239</td>\n",
       "      <td>Q31</td>\n",
       "      <td>[[Broslz]] a di kiapital fi [[Beljiom]].</td>\n",
       "    </tr>\n",
       "    <tr>\n",
       "      <th>3</th>\n",
       "      <td>P1376</td>\n",
       "      <td>Q220</td>\n",
       "      <td>Q38</td>\n",
       "      <td>[[Ruom]] a di kyapital fi [[Itali]].</td>\n",
       "    </tr>\n",
       "    <tr>\n",
       "      <th>4</th>\n",
       "      <td>P1376</td>\n",
       "      <td>Q649</td>\n",
       "      <td>Q159</td>\n",
       "      <td>[[Masko]] a di kyapital fi [[Rosha]].</td>\n",
       "    </tr>\n",
       "    <tr>\n",
       "      <th>...</th>\n",
       "      <td>...</td>\n",
       "      <td>...</td>\n",
       "      <td>...</td>\n",
       "      <td>...</td>\n",
       "    </tr>\n",
       "    <tr>\n",
       "      <th>94</th>\n",
       "      <td>P31</td>\n",
       "      <td>Q682</td>\n",
       "      <td>Q11344</td>\n",
       "      <td>[[Solfa]] a di [[kimikal eliment]] wid simbal ...</td>\n",
       "    </tr>\n",
       "    <tr>\n",
       "      <th>95</th>\n",
       "      <td>P31</td>\n",
       "      <td>Q627</td>\n",
       "      <td>Q11344</td>\n",
       "      <td>[[Naichojen]] a wah [[kimikal eliment]] wid si...</td>\n",
       "    </tr>\n",
       "    <tr>\n",
       "      <th>96</th>\n",
       "      <td>P31</td>\n",
       "      <td>Q629</td>\n",
       "      <td>Q11344</td>\n",
       "      <td>[[Axijen]] a wah [[kimikal eliment]] wid simba...</td>\n",
       "    </tr>\n",
       "    <tr>\n",
       "      <th>97</th>\n",
       "      <td>P31</td>\n",
       "      <td>Q556</td>\n",
       "      <td>Q11344</td>\n",
       "      <td>[[Aijrojin]] a wah [[kimikal eliment]] wid kim...</td>\n",
       "    </tr>\n",
       "    <tr>\n",
       "      <th>98</th>\n",
       "      <td>P31</td>\n",
       "      <td>Q897</td>\n",
       "      <td>Q11344</td>\n",
       "      <td>[[Guol]] a [[kimikal eliment]] wid di simbal A...</td>\n",
       "    </tr>\n",
       "  </tbody>\n",
       "</table>\n",
       "<p>99 rows × 4 columns</p>\n",
       "</div>"
      ],
      "text/plain": [
       "   Property    e1      e2                                           Sentence\n",
       "0       P36   Q45    Q597      Di kiapital a [[Puotigal]] niem \"[[Lizban]]\".\n",
       "1     P1376  Q472    Q219         [[Sofiya]] a di kiapital fi [[Bulgieria]].\n",
       "2     P1376  Q239     Q31           [[Broslz]] a di kiapital fi [[Beljiom]].\n",
       "3     P1376  Q220     Q38               [[Ruom]] a di kyapital fi [[Itali]].\n",
       "4     P1376  Q649    Q159              [[Masko]] a di kyapital fi [[Rosha]].\n",
       "..      ...   ...     ...                                                ...\n",
       "94      P31  Q682  Q11344  [[Solfa]] a di [[kimikal eliment]] wid simbal ...\n",
       "95      P31  Q627  Q11344  [[Naichojen]] a wah [[kimikal eliment]] wid si...\n",
       "96      P31  Q629  Q11344  [[Axijen]] a wah [[kimikal eliment]] wid simba...\n",
       "97      P31  Q556  Q11344  [[Aijrojin]] a wah [[kimikal eliment]] wid kim...\n",
       "98      P31  Q897  Q11344  [[Guol]] a [[kimikal eliment]] wid di simbal A...\n",
       "\n",
       "[99 rows x 4 columns]"
      ]
     },
     "execution_count": 14,
     "metadata": {},
     "output_type": "execute_result"
    }
   ],
   "source": [
    "df.dropna()"
   ]
  },
  {
   "cell_type": "code",
   "execution_count": null,
   "id": "23d01c7d-c32e-4923-8704-c700de2bb953",
   "metadata": {},
   "outputs": [],
   "source": []
  }
 ],
 "metadata": {
  "kernelspec": {
   "display_name": "re",
   "language": "python",
   "name": "re"
  },
  "language_info": {
   "codemirror_mode": {
    "name": "ipython",
    "version": 3
   },
   "file_extension": ".py",
   "mimetype": "text/x-python",
   "name": "python",
   "nbconvert_exporter": "python",
   "pygments_lexer": "ipython3",
   "version": "3.10.11"
  }
 },
 "nbformat": 4,
 "nbformat_minor": 5
}
