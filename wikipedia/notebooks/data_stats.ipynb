{
 "cells": [
  {
   "cell_type": "code",
   "execution_count": 15,
   "id": "0fdaac5f-43dc-4949-a4b9-26d3979edb35",
   "metadata": {},
   "outputs": [],
   "source": [
    "import pandas as pd\n",
    "import numpy as np\n",
    "import json \n",
    "import os"
   ]
  },
  {
   "cell_type": "code",
   "execution_count": 12,
   "id": "ac7e31b6-f80a-4378-9532-96b172d91bbe",
   "metadata": {},
   "outputs": [],
   "source": [
    "import matplotlib.pyplot as plt\n",
    "import seaborn as sns\n",
    "%matplotlib inline"
   ]
  },
  {
   "cell_type": "code",
   "execution_count": null,
   "id": "f26b1494-1d13-4499-b503-fe4debab2da1",
   "metadata": {},
   "outputs": [],
   "source": []
  },
  {
   "cell_type": "code",
   "execution_count": 14,
   "id": "fdf1e689-02e1-4e83-a64a-7b3d04644702",
   "metadata": {},
   "outputs": [],
   "source": [
    "report_dir = \"../data/relation_extraction/results_report\""
   ]
  },
  {
   "cell_type": "code",
   "execution_count": 16,
   "id": "7b6c4feb-f525-46db-967d-beecaca84794",
   "metadata": {},
   "outputs": [],
   "source": [
    "langs = [\"bi\", \"cbk-zam\", \"jam\", \"pih\", \"tpi\"]"
   ]
  },
  {
   "cell_type": "code",
   "execution_count": 26,
   "id": "102e1aff-7934-4ab3-9e40-750dd9ecec85",
   "metadata": {},
   "outputs": [],
   "source": [
    "output_dir = \"../ZS_BERT/output\""
   ]
  },
  {
   "cell_type": "code",
   "execution_count": 35,
   "id": "56249420-ce3f-460e-a60f-2aa9c1b480ce",
   "metadata": {},
   "outputs": [],
   "source": [
    "def process_one_file(filepath):\n",
    "    with open(filepath) as f:\n",
    "        data = json.load(f)\n",
    "    \n",
    "    sents=[]\n",
    "    ent1s=[]\n",
    "    ent2s=[]\n",
    "    en1qs=[]\n",
    "    en2qs=[]\n",
    "    golds=[]\n",
    "    preds=[]\n",
    "    predstrue=[]\n",
    "    for item in data:\n",
    "        tokens= item[\"tokens\"]\n",
    "        sentence=\" \".join(tokens)\n",
    "        edge= item[\"edgeSet\"]\n",
    "        left = edge[\"left\"]\n",
    "        right=edge[\"right\"]\n",
    "        ent1 = \" \".join([tokens[x] for x in left])\n",
    "        ent2 = \" \".join([tokens[x] for x in right])\n",
    "        pred = edge[\"property\"]\n",
    "        en1q,en2q,gold = edge[\"triple\"]\n",
    "        prediction= edge[\"prediction\"]\n",
    "        \n",
    "        sents.append(sentence)\n",
    "        ent1s.append(ent1)\n",
    "        ent2s.append(ent2)\n",
    "        en1qs.append(en1q)\n",
    "        en2qs.append(en2q)\n",
    "        golds.append(gold)\n",
    "        preds.append(pred)\n",
    "        predstrue.append(prediction)\n",
    "        \n",
    "    df = pd.DataFrame.from_dict({\n",
    "        \"Sentence\":sents,\n",
    "        \"ENT1\":ent1s,\n",
    "        \"ENT2\":ent2s,\n",
    "        \"ENT1_Qcode\":en1qs,\n",
    "        \"ENT2_Qcode\":en2qs,\n",
    "        \"Property\":golds,\n",
    "        \"Pred_Property\":preds,\n",
    "        \"Prediction\":predstrue\n",
    "    })\n",
    "    df.to_csv(filepath.replace(\".json\", \".csv\"), index=False)\n",
    "    return df\n",
    "    "
   ]
  },
  {
   "cell_type": "code",
   "execution_count": 36,
   "id": "1f7587ea-85ec-4b4f-92d9-37fdb02cbe60",
   "metadata": {},
   "outputs": [
    {
     "name": "stdout",
     "output_type": "stream",
     "text": [
      "../ZS_BERT/output/bi.json\n",
      "../ZS_BERT/output/cbk-zam.json\n",
      "../ZS_BERT/output/jam.json\n",
      "../ZS_BERT/output/pih.json\n",
      "../ZS_BERT/output/tpi.json\n"
     ]
    }
   ],
   "source": [
    "for lang in langs:\n",
    "    filepath= f\"{output_dir}/{lang}.json\"\n",
    "    print(filepath)\n",
    "    process_one_file(filepath)\n",
    "    "
   ]
  },
  {
   "cell_type": "code",
   "execution_count": null,
   "id": "f5c797a3-ea2b-4a63-bf8b-730dfc011661",
   "metadata": {},
   "outputs": [],
   "source": []
  },
  {
   "cell_type": "code",
   "execution_count": null,
   "id": "c92b1425-4641-453b-813b-cee3f4b2296b",
   "metadata": {},
   "outputs": [],
   "source": []
  },
  {
   "cell_type": "code",
   "execution_count": 19,
   "id": "8a8ecb9d-13bd-4e1f-bda1-914c136ef67f",
   "metadata": {},
   "outputs": [
    {
     "name": "stdout",
     "output_type": "stream",
     "text": [
      "bi\n",
      "              precision    recall  f1-score    support\n",
      "P106           0.923077  0.800000  0.857143  30.000000\n",
      "P131           0.000000  0.000000  0.000000  11.000000\n",
      "P1376          0.400000  0.125000  0.190476  16.000000\n",
      "P17            0.000000  0.000000  0.000000  10.000000\n",
      "P30            0.933333  0.736842  0.823529  19.000000\n",
      "P39            0.473684  0.900000  0.620690  10.000000\n",
      "P495           0.083333  0.333333  0.133333   3.000000\n",
      "accuracy       0.505051  0.505051  0.505051   0.505051\n",
      "macro avg      0.401918  0.413596  0.375024  99.000000\n",
      "weighted avg   0.573863  0.505051  0.515312  99.000000\n",
      "cbk-zam\n",
      "              precision    recall  f1-score    support\n",
      "P106           1.000000  1.000000  1.000000  44.000000\n",
      "P131           0.000000  0.000000  0.000000   4.000000\n",
      "P1376          0.000000  0.000000  0.000000  11.000000\n",
      "P17            0.681818  1.000000  0.810811  30.000000\n",
      "P30            0.888889  1.000000  0.941176   8.000000\n",
      "P361           0.000000  0.000000  0.000000   1.000000\n",
      "accuracy       0.836735  0.836735  0.836735   0.836735\n",
      "macro avg      0.428451  0.500000  0.458665  98.000000\n",
      "weighted avg   0.730262  0.836735  0.774018  98.000000\n",
      "jam\n",
      "              precision    recall  f1-score    support\n",
      "P106           1.000000  0.363636  0.533333  11.000000\n",
      "P131           0.000000  0.000000  0.000000  17.000000\n",
      "P1376          0.000000  0.000000  0.000000  15.000000\n",
      "P17            0.333333  0.500000  0.400000   2.000000\n",
      "P2341          0.000000  0.000000  0.000000   1.000000\n",
      "P2936          0.000000  0.000000  0.000000   3.000000\n",
      "P30            1.000000  0.333333  0.500000  24.000000\n",
      "P31            0.413793  1.000000  0.585366  12.000000\n",
      "P36            0.000000  0.000000  0.000000   1.000000\n",
      "P37            0.111111  0.333333  0.166667   3.000000\n",
      "P39            0.285714  1.000000  0.444444   4.000000\n",
      "P495           0.000000  0.000000  0.000000   4.000000\n",
      "accuracy       0.309278  0.309278  0.309278   0.309278\n",
      "macro avg      0.261996  0.294192  0.219151  97.000000\n",
      "weighted avg   0.434107  0.309278  0.288339  97.000000\n",
      "pih\n",
      "              precision    recall  f1-score  support\n",
      "P106           0.894737  0.944444  0.918919    18.00\n",
      "P131           0.076923  0.500000  0.133333     2.00\n",
      "P1376          0.090909  0.076923  0.083333    13.00\n",
      "P17            0.500000  0.235294  0.320000    17.00\n",
      "P2341          0.200000  0.142857  0.166667     7.00\n",
      "P30            1.000000  0.157895  0.272727    19.00\n",
      "P31            0.387097  0.571429  0.461538    21.00\n",
      "P361           0.000000  0.000000  0.000000     3.00\n",
      "accuracy       0.390000  0.390000  0.390000     0.39\n",
      "macro avg      0.393708  0.328605  0.294565   100.00\n",
      "weighted avg   0.544700  0.390000  0.393713   100.00\n",
      "tpi\n",
      "              precision    recall  f1-score    support\n",
      "P131           0.200000  0.166667  0.181818   12.00000\n",
      "P1376          0.000000  0.000000  0.000000   12.00000\n",
      "P17            0.545455  0.292683  0.380952   41.00000\n",
      "P30            0.571429  0.235294  0.333333   17.00000\n",
      "P36            0.500000  1.000000  0.666667    7.00000\n",
      "P361           0.000000  0.000000  0.000000    1.00000\n",
      "P39            0.527778  1.000000  0.690909   19.00000\n",
      "accuracy       0.403670  0.403670  0.403670    0.40367\n",
      "macro avg      0.334952  0.384949  0.321954  109.00000\n",
      "weighted avg   0.440419  0.403670  0.378546  109.00000\n"
     ]
    }
   ],
   "source": [
    "\n",
    "for lang in langs:\n",
    "    filepath = f\"{report_dir}/{lang}.json\"\n",
    "    print(lang)\n",
    "    df = pd.read_json(filepath).T\n",
    "    print(df)"
   ]
  },
  {
   "cell_type": "code",
   "execution_count": null,
   "id": "24f2ef3c-7f20-452f-b5e3-454528f9155a",
   "metadata": {},
   "outputs": [],
   "source": []
  },
  {
   "cell_type": "code",
   "execution_count": null,
   "id": "395ce0f3-f447-48fb-9f92-1559c2b2f414",
   "metadata": {},
   "outputs": [],
   "source": []
  },
  {
   "cell_type": "code",
   "execution_count": null,
   "id": "a9d165c4-7a98-4789-b1a2-222f02b1ff32",
   "metadata": {},
   "outputs": [],
   "source": []
  },
  {
   "cell_type": "code",
   "execution_count": null,
   "id": "b650cee8-7a39-4d52-b7d0-b86653676879",
   "metadata": {},
   "outputs": [],
   "source": []
  },
  {
   "cell_type": "code",
   "execution_count": null,
   "id": "ebc3d7f6-a4e3-464e-939e-45670a98e8fc",
   "metadata": {},
   "outputs": [],
   "source": []
  },
  {
   "cell_type": "markdown",
   "id": "9ba5ed42-5962-42c5-9a55-cd44cbbbe505",
   "metadata": {},
   "source": [
    "# Property distribution in train/test data zs-bert"
   ]
  },
  {
   "cell_type": "code",
   "execution_count": 20,
   "id": "4ae1040b-4e0a-42c3-8da6-688e143d6062",
   "metadata": {},
   "outputs": [],
   "source": [
    "labels=[\"P106\", \"P131\",\"P1376\", \"P17\", \"P2341\", \"P2936\", \"P30\", \"P31\", \"P36\", \"P37\",  \"P361\", \"P39\", \"P495\"]"
   ]
  },
  {
   "cell_type": "code",
   "execution_count": null,
   "id": "461f2e10-3f4c-4a79-a64c-3c9b7d3fcd51",
   "metadata": {},
   "outputs": [],
   "source": []
  },
  {
   "cell_type": "code",
   "execution_count": null,
   "id": "3da9633a-1f21-467f-8af9-92d30161fcc2",
   "metadata": {},
   "outputs": [],
   "source": []
  },
  {
   "cell_type": "code",
   "execution_count": null,
   "id": "271c943b-ea89-4fbf-ae5a-b98f247bb77f",
   "metadata": {},
   "outputs": [],
   "source": []
  },
  {
   "cell_type": "code",
   "execution_count": 2,
   "id": "185df931-d7b1-449d-ada4-8ef252d1cd43",
   "metadata": {},
   "outputs": [],
   "source": [
    "data_dir = \"../ZS_BERT/data/m5\""
   ]
  },
  {
   "cell_type": "code",
   "execution_count": 3,
   "id": "477b3c54-98f9-4dda-a484-a3405d0bd089",
   "metadata": {},
   "outputs": [],
   "source": [
    "with open(f\"{data_dir}/test.json\") as f:\n",
    "    test_data= json.load(f)\n",
    "\n",
    "with open(f\"{data_dir}/train.json\") as f:\n",
    "    train_data= json.load(f)"
   ]
  },
  {
   "cell_type": "code",
   "execution_count": 8,
   "id": "848651a6-5149-4e83-bbf2-dc0f5327eec7",
   "metadata": {},
   "outputs": [],
   "source": [
    "properties_train = []\n",
    "\n",
    "for item in train_data:\n",
    "    prop = item[\"edgeSet\"][0][\"kbID\"]\n",
    "    properties_train.append(prop)"
   ]
  },
  {
   "cell_type": "code",
   "execution_count": 9,
   "id": "8c59c1e8-72a5-4798-aee4-fdf90495b472",
   "metadata": {},
   "outputs": [
    {
     "data": {
      "text/plain": [
       "89007"
      ]
     },
     "execution_count": 9,
     "metadata": {},
     "output_type": "execute_result"
    }
   ],
   "source": [
    "len(properties_train)"
   ]
  },
  {
   "cell_type": "code",
   "execution_count": 10,
   "id": "4bdfb8bf-4bfb-4bdc-8cba-5ac8f60be2f7",
   "metadata": {},
   "outputs": [
    {
     "data": {
      "text/plain": [
       "['P101',\n",
       " 'P101',\n",
       " 'P101',\n",
       " 'P101',\n",
       " 'P101',\n",
       " 'P101',\n",
       " 'P101',\n",
       " 'P101',\n",
       " 'P101',\n",
       " 'P101']"
      ]
     },
     "execution_count": 10,
     "metadata": {},
     "output_type": "execute_result"
    }
   ],
   "source": [
    "properties_train[:10]"
   ]
  },
  {
   "cell_type": "code",
   "execution_count": 21,
   "id": "2345a44f-022d-4a4b-a266-1b54d39aacd7",
   "metadata": {},
   "outputs": [],
   "source": [
    "properties = [x for x in properties_train if x in labels]"
   ]
  },
  {
   "cell_type": "code",
   "execution_count": 24,
   "id": "26dfec51-35a3-4802-857c-9fd40a9c62d2",
   "metadata": {},
   "outputs": [
    {
     "data": {
      "text/plain": [
       "13"
      ]
     },
     "execution_count": 24,
     "metadata": {},
     "output_type": "execute_result"
    }
   ],
   "source": [
    "len(labels)"
   ]
  },
  {
   "cell_type": "code",
   "execution_count": 25,
   "id": "bdd7862b-d18f-4c14-a2d1-12dcbea89875",
   "metadata": {},
   "outputs": [
    {
     "data": {
      "text/plain": [
       "{'P1376', 'P2341', 'P2936', 'P361'}"
      ]
     },
     "execution_count": 25,
     "metadata": {},
     "output_type": "execute_result"
    }
   ],
   "source": [
    "set(labels).difference(set(properties))"
   ]
  },
  {
   "cell_type": "code",
   "execution_count": 23,
   "id": "67e63a18-0753-442f-84d9-adabd21435bb",
   "metadata": {},
   "outputs": [
    {
     "data": {
      "text/plain": [
       "<seaborn.axisgrid.FacetGrid at 0x7fa66c47e8f0>"
      ]
     },
     "execution_count": 23,
     "metadata": {},
     "output_type": "execute_result"
    },
    {
     "data": {
      "image/png": "[encoded data removed]",
      "text/plain": [
       "<Figure size 500x500 with 1 Axes>"
      ]
     },
     "metadata": {},
     "output_type": "display_data"
    }
   ],
   "source": [
    "sns.displot(properties)"
   ]
  },
  {
   "cell_type": "code",
   "execution_count": null,
   "id": "eda09485-fd4e-4051-8d3b-f389299a7d38",
   "metadata": {},
   "outputs": [],
   "source": []
  }
 ],
 "metadata": {
  "kernelspec": {
   "display_name": "re",
   "language": "python",
   "name": "re"
  },
  "language_info": {
   "codemirror_mode": {
    "name": "ipython",
    "version": 3
   },
   "file_extension": ".py",
   "mimetype": "text/x-python",
   "name": "python",
   "nbconvert_exporter": "python",
   "pygments_lexer": "ipython3",
   "version": "3.10.11"
  }
 },
 "nbformat": 4,
 "nbformat_minor": 5
}
