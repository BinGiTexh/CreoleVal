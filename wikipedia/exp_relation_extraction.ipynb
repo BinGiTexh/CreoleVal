{
 "cells": [
  {
   "cell_type": "code",
   "execution_count": 1,
   "id": "61804c73-d995-4d34-9d8e-ea8dd172f678",
   "metadata": {},
   "outputs": [],
   "source": [
    "import json\n",
    "import pickle\n",
    "\n",
    "import pandas as pd\n",
    "import numpy as np\n",
    "from sklearn.metrics.pairwise import cosine_similarity\n",
    "from sklearn.metrics import f1_score, precision_score, recall_score"
   ]
  },
  {
   "cell_type": "code",
   "execution_count": null,
   "id": "f13106a1-23ab-4198-a76a-eec72da353eb",
   "metadata": {},
   "outputs": [],
   "source": []
  },
  {
   "cell_type": "code",
   "execution_count": null,
   "id": "d921c013-ed7a-4f48-9b44-90cc422ea831",
   "metadata": {},
   "outputs": [],
   "source": []
  },
  {
   "cell_type": "code",
   "execution_count": null,
   "id": "9e21080b-6bc0-4d4f-b492-4d3bc64ba198",
   "metadata": {},
   "outputs": [],
   "source": []
  },
  {
   "cell_type": "code",
   "execution_count": null,
   "id": "d44496b9-b841-4efc-a748-2637e1c7b55c",
   "metadata": {},
   "outputs": [],
   "source": []
  },
  {
   "cell_type": "code",
   "execution_count": null,
   "id": "6748b942-b8b8-44d8-844b-c4c80637d4ff",
   "metadata": {},
   "outputs": [],
   "source": []
  },
  {
   "cell_type": "code",
   "execution_count": null,
   "id": "fcbb645a-39bd-4cce-a0f5-97c531cdb0dc",
   "metadata": {},
   "outputs": [],
   "source": []
  },
  {
   "cell_type": "code",
   "execution_count": null,
   "id": "a4b0b47a-785d-4c92-8438-e4f186c56d7d",
   "metadata": {},
   "outputs": [],
   "source": []
  },
  {
   "cell_type": "markdown",
   "id": "408ff8c3-3cc5-469d-9948-cd624e60f352",
   "metadata": {},
   "source": [
    "# Using UKB data to try out the simple idea with cosine similarity"
   ]
  },
  {
   "cell_type": "code",
   "execution_count": 3,
   "id": "92ffbdb8-ac89-40ea-9fc5-dd6b31361323",
   "metadata": {},
   "outputs": [],
   "source": [
    "test_path= \"data/WikipediaWikidataDistantSupervisionAnnotations.v1.0/enwiki-20160501/semantic-graphs-filtered-held-out.02_06.json\""
   ]
  },
  {
   "cell_type": "code",
   "execution_count": 4,
   "id": "e327400c-6814-4936-bc74-c749d40539b0",
   "metadata": {},
   "outputs": [],
   "source": [
    "with open(test_path) as f:\n",
    "    test_data = json.load(f)"
   ]
  },
  {
   "cell_type": "code",
   "execution_count": 5,
   "id": "c33856ee-2f39-4716-8f2c-277dafbb7e42",
   "metadata": {
    "scrolled": true,
    "tags": []
   },
   "outputs": [],
   "source": [
    "sample = test_data[0]"
   ]
  },
  {
   "cell_type": "code",
   "execution_count": 11,
   "id": "93a5c834-d043-422a-8665-d85f6e74a603",
   "metadata": {},
   "outputs": [
    {
     "data": {
      "text/plain": [
       "3"
      ]
     },
     "execution_count": 11,
     "metadata": {},
     "output_type": "execute_result"
    }
   ],
   "source": [
    "len(sample)"
   ]
  },
  {
   "cell_type": "code",
   "execution_count": 24,
   "id": "5ff062ca-63c6-40a5-8f2f-f5c50023a978",
   "metadata": {
    "scrolled": true,
    "tags": []
   },
   "outputs": [
    {
     "data": {
      "text/plain": [
       "{'vertexSet': [{'kbID': 'Q964313',\n",
       "   'type': 'LEXICAL',\n",
       "   'variable': False,\n",
       "   'unique': False,\n",
       "   'namedEntity': True,\n",
       "   'tokenpositions': [22],\n",
       "   'numericalValue': 0.0,\n",
       "   'lexicalInput': 'Quispamsis'},\n",
       "  {'kbID': 'Q1965',\n",
       "   'type': 'LEXICAL',\n",
       "   'variable': False,\n",
       "   'unique': False,\n",
       "   'namedEntity': True,\n",
       "   'tokenpositions': [24, 25],\n",
       "   'numericalValue': 0.0,\n",
       "   'lexicalInput': 'New Brunswick'}],\n",
       " 'edgeSet': [{'left': [22], 'right': [24, 25], 'kbID': 'P131'}],\n",
       " 'tokens': ['The',\n",
       "  '2016',\n",
       "  'Telus',\n",
       "  'Cup',\n",
       "  'was',\n",
       "  'Canadas',\n",
       "  '38th',\n",
       "  'annual',\n",
       "  'national',\n",
       "  'midget',\n",
       "  'AAA',\n",
       "  'hockey',\n",
       "  'championship',\n",
       "  ',',\n",
       "  'played',\n",
       "  'April',\n",
       "  '18',\n",
       "  '&ndash;',\n",
       "  '24',\n",
       "  ',',\n",
       "  '2016',\n",
       "  'at',\n",
       "  'Quispamsis',\n",
       "  ',',\n",
       "  'New',\n",
       "  'Brunswick',\n",
       "  '.']}"
      ]
     },
     "execution_count": 24,
     "metadata": {},
     "output_type": "execute_result"
    }
   ],
   "source": [
    "test_data[1]"
   ]
  },
  {
   "cell_type": "code",
   "execution_count": 6,
   "id": "e6ee649c-d5ed-48d2-a6ae-8f43f534e100",
   "metadata": {},
   "outputs": [],
   "source": [
    "import tqdm"
   ]
  },
  {
   "cell_type": "code",
   "execution_count": 7,
   "id": "620e5008-f535-40b7-91d9-a2d060dd5e60",
   "metadata": {},
   "outputs": [],
   "source": [
    "from sklearn.metrics import accuracy_score"
   ]
  },
  {
   "cell_type": "code",
   "execution_count": 15,
   "id": "cc0fc044-51ee-4c59-9c6c-0a07af98cd5f",
   "metadata": {
    "scrolled": true,
    "tags": []
   },
   "outputs": [
    {
     "name": "stdout",
     "output_type": "stream",
     "text": [
      "Q698731 Q30461 P17\n",
      "Ribafria ( ) is a former civil parish , located in the municipality of Alenquer , in western Portugal .\n",
      "Q337348 Q1370 P131\n",
      "Seward , one of fourteen sibling s , was born in Charles City County , Virginia .\n",
      "Q9448 Q9617 P118\n",
      "In 1996 , Wenger was named manager of Arsenal and two years later the club completed a league and FA Cup double .\n",
      "Q9448 Q9617 P376\n",
      "Blanchard is a lunar crater that lies on the far side of the Moon , just behind the southwestern limb .\n"
     ]
    },
    {
     "name": "stderr",
     "output_type": "stream",
     "text": [
      " 83%|██████████████████████████████████████████████████▌          | 828/1000 [00:47<00:09, 17.36it/s]"
     ]
    },
    {
     "name": "stdout",
     "output_type": "stream",
     "text": [
      "Q9448 Q9617 P17\n",
      "Asian Highway 13 ( AH13 ) is a road in the Asian Highway Network running from Oudomxay , Laos to Nakhon Sawan , Thailand connecting AH12 to AH2 .\n",
      "Q9448 Q9617 P463\n",
      "Joel David Williams ( born March 16 , 1965 ) is a former American football tight end who played one season with the Miami Dolphins of the National Football League .\n",
      "Q9448 Q9617 P131\n",
      "Tyendinaga Mohawk Territory is the main First Nation reserve of the Mohawks of the Bay of Quinte First Nation located in Hastings County , Ontario .\n",
      "Q1041 Q97 P1589\n",
      "It is a tropical , marine eel which is known from a single specimen recovered from the stomach of a grouper in Senegal , in the eastern Atlantic Ocean .\n"
     ]
    },
    {
     "name": "stderr",
     "output_type": "stream",
     "text": [
      " 83%|██████████████████████████████████████████████████▊          | 832/1000 [00:47<00:09, 16.92it/s]"
     ]
    },
    {
     "name": "stdout",
     "output_type": "stream",
     "text": [
      "Q1041 Q97 P376\n",
      "Nöther is a lunar crater on the far side of the Moon .\n",
      "Q1041 Q97 P131\n",
      "He was elected at the 1918 general election as the Member of Parliament ( MP ) for the Clitheroe division of Lancashire , but was defeated at the 1922 general election .\n",
      "Q1041 Q97 P131\n",
      "Historically in Lancashire , it became part of Cheshire in 1974 , within the borough of Halton .\n",
      "Q1041 Q97 P413\n",
      "Saša Radulović ( , ; born 4 April 1984 ) is a Serbian football forward who plays for Kopaonik Brus in Serbian League East .\n"
     ]
    },
    {
     "name": "stderr",
     "output_type": "stream",
     "text": [
      " 84%|██████████████████████████████████████████████████▉          | 836/1000 [00:47<00:09, 16.76it/s]"
     ]
    },
    {
     "name": "stdout",
     "output_type": "stream",
     "text": [
      "Q242546 Q21745466 P26\n",
      "Working at a London bookshop owned by David Garnett and Francis Birrell , she became acquainted with Lytton Strachey , Dora Carrington and Ralph Partridge .\n",
      "Q502459 Q544890 P131\n",
      "In the 1981 redistricting , the two Somerset County municipalities were shifted to the 14th District while the 17th picked up the Union County city of Plainfield .\n",
      "Q795585 Q542860 P108\n",
      "The lead track of the EP Over and Out picked up a ‘ Next Hype ’ play on Zane Lowe ‘ s Radio 1 show and further Radio 1 plays from Fearne Cotton .\n",
      "Q795585 Q542860 P39\n",
      "Martin Brady ( born 7 May 1947 ) is a former Irish Fianna Fáil politician , who was served as a Teachta Dála ( TD ) and Senator from 1997 to 2011 .\n"
     ]
    },
    {
     "name": "stderr",
     "output_type": "stream",
     "text": [
      " 84%|███████████████████████████████████████████████████▏         | 840/1000 [00:48<00:09, 16.42it/s]"
     ]
    },
    {
     "name": "stdout",
     "output_type": "stream",
     "text": [
      "Q795585 Q542860 P413\n",
      "Dylan Mackin ( born 15 January 1997 ) is a Scottish footballer who plays as a striker for Airdrieonians , on loan from Scottish Premiership club Motherwell .\n",
      "Q5377 Q1995117 P641\n",
      "Farmersgolf ( Boerengolf in Dutch ) is a farm land game modelled after the sport of golf .\n",
      "Q714823 Q3616 P131\n",
      "Shahid Madani Metro Station is a station in Tehran Metro Line 2 .\n",
      "Q714823 Q3616 P54\n",
      "Tim Wilson ( January 14 , 1954 November 23 , 1996 ) was an American football running back in the National Football League for the Houston Oilers and New Orleans Saints .\n"
     ]
    },
    {
     "name": "stderr",
     "output_type": "stream",
     "text": [
      " 84%|███████████████████████████████████████████████████▍         | 844/1000 [00:48<00:09, 16.19it/s]"
     ]
    },
    {
     "name": "stdout",
     "output_type": "stream",
     "text": [
      "Q5289201 Q22 P131\n",
      "It is the official hymn of Dollar Academy , an independent day and boarding school in Scotland , where it is known as the Dollar Anthem .\n",
      "Q5289201 Q22 P27\n",
      "Eric Neisse ( born November 27 , 1964 in Sorengo , Switzerland ) is a retired male race walker from France .\n",
      "Q165510 Q15966903 P279\n",
      "Originally called Tomis , legend has it that Jason landed here with the Argonauts after finding the Golden Fleece .\n",
      "'Q15966903'\n",
      "Q21 Q2736 P495\n",
      "Phoenix Park F. C. was an English football club based in Bradford , West Yorkshire .\n",
      "Q1032384 Q340 P159\n",
      "Mackenzie was ordered in 1957 and was laid down on 15 December 1958 at Canadian Vickers Ltd. , Montreal .\n"
     ]
    },
    {
     "name": "stderr",
     "output_type": "stream",
     "text": [
      " 85%|███████████████████████████████████████████████████▊         | 849/1000 [00:48<00:08, 18.10it/s]"
     ]
    },
    {
     "name": "stdout",
     "output_type": "stream",
     "text": [
      "Q2120473 Q2088440 P131\n",
      "The Dwaraka originates in Santhal Parganas in Jharkhand , flows through Deucha , and then through Mayureswar and Rampurhat police station areas of Birbhum district .\n",
      "Q3091857 Q2247822 P39\n",
      "Its leader Gerrit Schotte became the first Prime Minister of Curaçao in a coalition cabinet of MFK , PS and MAN .\n",
      "1988-01-01 Q491405 P571\n",
      "In late 1988 , Wakeman received a call from Brian Lane who invited him to form Anderson Bruford Wakeman Howe with former Yes band members Jon Anderson , Bill Bruford and Steve Howe .\n",
      "Q33999 Q3508550 P106\n",
      "Jiří Grossmann ( 20 July 1941 &ndash; 5 December 1971 ) was a Czechoslovak theatre actor , poet , and composer .\n",
      "Q288241 Q100 P20\n",
      "In Winter Madness he argues with several Freedom Trail historical reenactors in Boston for misrepresenting the racism of the Founding Fathers and the date of Crispus Attucks death .\n"
     ]
    },
    {
     "name": "stderr",
     "output_type": "stream",
     "text": [
      " 86%|████████████████████████████████████████████████████▏        | 855/1000 [00:48<00:07, 18.83it/s]"
     ]
    },
    {
     "name": "stdout",
     "output_type": "stream",
     "text": [
      "Q925801 Q1037 P17\n",
      "Maraba coffee ( ; ) is grown in the Maraba area of southern Rwanda .\n",
      "Q925801 Q1037 P17\n",
      "Aranuka is an atoll of Kiribati , located just north of the equator , in the Gilbert Islands .\n",
      "Q925801 Q1037 P17\n",
      "Torre Mapfre is a skyscraper in the Port Olímpic ( Olympic Port ) , the maritime neighborhood of the Old City of Barcelona in Spain .\n",
      "Q1163715 Q213959 P118\n",
      "William Otis Otey Clark ( May 22 , 1915 &ndash; October 20 , 2010 ) was a Major League Baseball pitcher who played for the Boston Red Sox in 1945 .\n"
     ]
    },
    {
     "name": "stderr",
     "output_type": "stream",
     "text": [
      " 86%|████████████████████████████████████████████████████▍        | 859/1000 [00:49<00:07, 17.70it/s]"
     ]
    },
    {
     "name": "stdout",
     "output_type": "stream",
     "text": [
      "Q1163715 Q213959 P57\n",
      "Flipotte is a 1920 French silent film directed by Jacques de Baroncelli .\n",
      "Q1163715 Q213959 P449\n",
      "She played Rani Lakshmibai in Jhansi Ki Rani and Aarti in Punar Vivah on Zee TV .\n",
      "Q678 Q283712 P17\n",
      "Tafahi is a small ( ) island in the north of the Tonga archipelago , in fact closer to Savaii ( Sāmoa ) than the main islands of Tonga .\n",
      "Q488260 Q1574701 P175\n",
      "After signing to U2 s record label Mother in 1984 and producing several hits including a cover of Jefferson Airplane s Somebody to Love In Tua Nua officially disbanded in 1990 .\n"
     ]
    },
    {
     "name": "stderr",
     "output_type": "stream",
     "text": [
      " 86%|████████████████████████████████████████████████████▋        | 863/1000 [00:49<00:08, 17.11it/s]"
     ]
    },
    {
     "name": "stdout",
     "output_type": "stream",
     "text": [
      "Q99 Q49 P30\n",
      "It is native plant to most of North America from the East Coast through all of the West Coast and California .\n",
      "Q99 Q49 P577\n",
      "In 1985 , Tilly landed the acclaimed title role in Norman Jewisons Agnes of God , appearing with Jane Fonda and Anne Bancroft .\n",
      "Q629 Q283 P361\n",
      "Mordenite is a zeolite mineral with the chemical formula , ( Ca , Na , K Al Si O · 7 HO .\n",
      "Q629 Q283 P279\n",
      "In the Protestant world there was persecution of Arminians and religious Independents , such as early Unitarians , Baptists and Quakers .\n"
     ]
    },
    {
     "name": "stderr",
     "output_type": "stream",
     "text": [
      " 87%|████████████████████████████████████████████████████▉        | 867/1000 [00:49<00:07, 16.94it/s]"
     ]
    },
    {
     "name": "stdout",
     "output_type": "stream",
     "text": [
      "Q629 Q283 P17\n",
      "It is found in Iran and the Helmand River drainage in Afghanistan .\n",
      "Q629 Q283 P47\n",
      "It was available through distribution in Manhattan , Brooklyn , Queens , and Hoboken .\n",
      "Q629 Q283 P161\n",
      "In 2013 , he starred in the HBO biopic of Liberace , Behind the Candelabra with Michael Douglas and Matt Damon .\n",
      "Q183504 Q1338886 P136\n",
      "Smith Westerns were an American indie rock band from Chicago , Illinois .\n"
     ]
    },
    {
     "name": "stderr",
     "output_type": "stream",
     "text": [
      " 87%|█████████████████████████████████████████████████████▏       | 871/1000 [00:49<00:07, 16.79it/s]"
     ]
    },
    {
     "name": "stdout",
     "output_type": "stream",
     "text": [
      "Q259011 Q934853 P1365\n",
      "The Motorola Rokr ( , styled ROKR ) is a series of mobile phone s from Motorola , part of a 4LTR line developed before the spin out of Motorola Mobility .\n",
      "Q259011 Q934853 P27\n",
      "Štefan Horný ( born 13 January 1957 ) is a former football player from Slovakia and recently manager of MFK Skalica .\n",
      "Q259011 Q934853 P17\n",
      "Della Falls is a waterfall in Strathcona Provincial Park on Vancouver Island and is among the tallest waterfalls in Canada .\n",
      "Q1322747 Q222595 P241\n",
      "31st ( City of London ) Signal Regiment ( V ) was a Territorial Army regiment in the Royal Corps of Signals in the British Army .\n"
     ]
    },
    {
     "name": "stderr",
     "output_type": "stream",
     "text": [
      " 88%|█████████████████████████████████████████████████████▍       | 875/1000 [00:50<00:07, 16.71it/s]"
     ]
    },
    {
     "name": "stdout",
     "output_type": "stream",
     "text": [
      "Q1499199 Q672903 P136\n",
      "Rare examples of gekiga comics were published in the international anthology series , Papírmozi presenting works by artists Yoshihiro Tatsumi , Katsuhiro Otomo .\n",
      "Q1499199 Q672903 P641\n",
      "Wilson Roberto Palacios Suazo ( ; born 29 July 1984 ) is a Honduran footballer who plays as a midfielder for Miami FC of the North American Soccer League .\n",
      "Q1499199 Q672903 P118\n",
      "Corey Hertzog ( born August 1 , 1990 ) is an American soccer player currently playing for the Pittsburgh Riverhounds in the USL .\n",
      "Q1499199 Q672903 P47\n",
      "Since its inception , the Ordinariate has grown to include ten Australian congregations in Queensland , Victoria , Western Australia , South Australia , and New South Wales .\n"
     ]
    },
    {
     "name": "stderr",
     "output_type": "stream",
     "text": [
      " 88%|█████████████████████████████████████████████████████▌       | 879/1000 [00:50<00:07, 16.62it/s]"
     ]
    },
    {
     "name": "stdout",
     "output_type": "stream",
     "text": [
      "Q1499199 Q672903 P0\n",
      "Vepridaphne cestrum is a species of sea snail , a marine gastropod mollusk in the family Raphitomidae .\n",
      "Q501835 Q1371 P131\n",
      "Morning Star is an unincorporated community in Roane County , West Virginia .\n",
      "Q235858 Q638 P279\n",
      "The music was an original brand of electronica , folk music , and new wave pop .\n",
      "Q17278 Q203425 P31\n",
      "A number line is marked off by a circle of unit diameter .\n"
     ]
    },
    {
     "name": "stderr",
     "output_type": "stream",
     "text": [
      " 88%|█████████████████████████████████████████████████████▉       | 885/1000 [00:50<00:05, 21.64it/s]"
     ]
    },
    {
     "name": "stdout",
     "output_type": "stream",
     "text": [
      "Q36442 Q7163 P2578\n",
      "Van Bommel was a teacher of Dutch and English before entering politics , having attended the University of Amsterdam to study political science .\n",
      "Q36442 Q7163 P27\n",
      "Blue Panther Jr. ( born 1998 ) is the ring name of a Mexican luchador enmascarado , or masked professional wrestler , formerly known as Black Panther .\n",
      "1818-01-01 Q1210353 P577\n",
      "Rahovart ( or Rahouart ) is a demon identified in Collin de Plancys Dictionnaire Infernal ( 1818 ) , according to which he is referenced in Durzels Moralité , a Renaissance book .\n",
      "1818-01-01 Q1210353 P131\n",
      "Cadoxton railway station is a railway station serving Cadoxton and Palmerstown near Barry , Vale of Glamorgan , South Wales .\n",
      "Q169889 Q7717405 P449\n",
      "Anderson was the first country artist to host a network game show , starring on ABCs The Better Sex , and later hosting Fandango on cable network TNN .\n",
      "Q169889 Q7717405 P31\n",
      "Competitors then make their way onto Eastcheap , via Fenchurch Street and Gracechurch Street , and on towards the Tower of London .\n"
     ]
    },
    {
     "name": "stderr",
     "output_type": "stream",
     "text": [
      " 89%|██████████████████████████████████████████████████████▏      | 888/1000 [00:50<00:04, 22.64it/s]"
     ]
    },
    {
     "name": "stdout",
     "output_type": "stream",
     "text": [
      "Q1860 Q18615070 P364\n",
      "They offer AP classes in Art , Biology , Chemistry , English , Government , History , Math , and Foreign Language .\n",
      "'Q18615070'\n",
      "Q5591883 Q3214425 P279\n",
      "The Belmont Stakes is an American Grade I stakes Thoroughbred horse race held every June at Belmont Park in Elmont , New York .\n",
      "Q45 Q29 P47\n",
      "Agrostis nebulosa ( Cloud grass ) is an ornamental plant native to Portugal and Spain .\n",
      "Q149481 Q4024 P131\n",
      "Born in Müncheberg , Gesius studied theology between 1578 and 1585 at the Alma Mater Viadrina in Frankfurt ( Oder ) .\n",
      "Q366886 Q270673 P31\n",
      "Cloninger ’s theory suggests that over expression of the RD temperament could cause psychiatric illnesses , such as addictive behavior s , sociopathies , and personality disorder s.\n"
     ]
    },
    {
     "name": "stderr",
     "output_type": "stream",
     "text": [
      " 89%|██████████████████████████████████████████████████████▌      | 894/1000 [00:50<00:05, 18.90it/s]"
     ]
    },
    {
     "name": "stdout",
     "output_type": "stream",
     "text": [
      "Q366886 Q270673 P641\n",
      "Syd Tims ( 12 November 1914 30 May 1962 ) was an Australian rules football er who played with South Melbourne in the Victorian Football League ( VFL ) .\n",
      "Q3054079 Q525207 P131\n",
      "There is one small borough ( ) Helme and 14 villages ( ) in Helme Parish .\n",
      "Q3054079 Q525207 P131\n",
      "Wetteren ( ) is a municipality located in the Belgian province of East Flanders .\n",
      "Q3054079 Q525207 P530\n",
      "The area was settled by predominantly Hungarian , Polish , Italian and Ukrainian immigrants .\n"
     ]
    },
    {
     "name": "stderr",
     "output_type": "stream",
     "text": [
      " 90%|██████████████████████████████████████████████████████▊      | 898/1000 [00:51<00:05, 17.78it/s]"
     ]
    },
    {
     "name": "stdout",
     "output_type": "stream",
     "text": [
      "Q1782612 Q169923 P131\n",
      "Pádraic Fahy ( born 1948 in Carnmore , County Galway ) is an Irish former sportsperson .\n",
      "Q1782612 Q169923 P641\n",
      "Harry Giles ( 10 August 1911 4 August 1986 ) was an Australian rules football er who played with Essendon in the Victorian Football League ( VFL ) .\n",
      "Q16959533 Q136538 P449\n",
      "Perez is best known for presiding over cases in the shows La Corte del Pueblo ( 1999 2000 ) and La Corte de Familia ( 2000 2005 ) on the Telemundo network .\n",
      "Q3779582 Q7193 P425\n",
      "In 1909 , Johnston accepted a position as assistant microbiologist at the New South Wales Health Department in the Bureau of Microbiology .\n"
     ]
    },
    {
     "name": "stderr",
     "output_type": "stream",
     "text": [
      " 90%|███████████████████████████████████████████████████████      | 902/1000 [00:51<00:05, 17.20it/s]"
     ]
    },
    {
     "name": "stdout",
     "output_type": "stream",
     "text": [
      "Q904472 Q25 P131\n",
      "Maddox lives in London and spends time at her cottage near Brecon , Wales where she and her late husband , Sir John Maddox , were actively involved within the local community .\n",
      "Q904472 Q25 P27\n",
      "Kevin Turcotte is a trumpet player based in Toronto , Canada .\n",
      "Q34370 Q55 P17\n",
      "Basic Beat Recordings is an independent dance record label from Rotterdam in the Netherlands .\n",
      "Q5588901 Q693032 P263\n",
      "MD 450 passes Government House , the residence of the Governor of Maryland , and meets the southern end of MD 70 ( Bladen Street ) directly northwest of the State House .\n"
     ]
    },
    {
     "name": "stderr",
     "output_type": "stream",
     "text": [
      " 91%|███████████████████████████████████████████████████████▎     | 906/1000 [00:51<00:05, 16.83it/s]"
     ]
    },
    {
     "name": "stdout",
     "output_type": "stream",
     "text": [
      "Q5588901 Q693032 P131\n",
      "Denshaw is a village in Saddleworth — a civil parish of the Metropolitan Borough of Oldham , in Greater Manchester , England .\n",
      "Q5588901 Q693032 P31\n",
      "Hodgman appeared in the North American Get a Mac advertising campaign for Apple Inc. , which ran from May 2006 through 2010 .\n",
      "Q5588901 Q693032 P577\n",
      "Its sequel , Tekken 6 was released on 2007 in the arcades and later ported to the PlayStation 3 and Xbox 360 in 2009 .\n",
      "Q298310 Q7240498 P175\n",
      "( ) , is the first official single released from David Bisbal s album Premonición .\n"
     ]
    },
    {
     "name": "stderr",
     "output_type": "stream",
     "text": [
      " 91%|███████████████████████████████████████████████████████▌     | 910/1000 [00:51<00:05, 16.60it/s]"
     ]
    },
    {
     "name": "stdout",
     "output_type": "stream",
     "text": [
      "Q5849 Q378628 P641\n",
      "Alan Augustus Adams ( 8 May 1883 28 July 1963 ) was a New Zealand born sportsman who played international rugby union for England .\n",
      "Q5849 Q378628 P449\n",
      "Dickson has written for the BBC Two comedy series The Fast Show and Play Your Cards Right for ITV .\n",
      "Q30 Q1026858 P17\n",
      "Catharine Bailey Baker ( born Catharine Ann Bailey ; May 1 , 1971 ) is an American politician currently serving in the California State Assembly .\n",
      "Q30 Q1026858 P361\n",
      "Bagarius ( ) is an Asian genus of catfish es ( order Siluriformes ) of the family Sisoridae .\n"
     ]
    },
    {
     "name": "stderr",
     "output_type": "stream",
     "text": [
      " 91%|███████████████████████████████████████████████████████▊     | 914/1000 [00:52<00:05, 16.65it/s]"
     ]
    },
    {
     "name": "stdout",
     "output_type": "stream",
     "text": [
      "Q505610 Q25 P131\n",
      "Perry was born in Flintshire , Wales , and was a descendant of Llywelyn ap Gruffudd ( the last Welsh Prince of Wales ) .\n",
      "Q189472 Q733401 P641\n",
      "Beni Hofer ( born in Zweisimmen ) is a Swiss freestyle skier , specializing in ski cross and a former alpine skier .\n",
      "Q189472 Q733401 P0\n",
      "Gigantoraptor is a genus of giant oviraptorosauria n theropod dinosaur .\n",
      "Q1178 Q1201123 P86\n",
      "Also for Philips , with the BSO under Bernard Haitink s direction , the chorus has recorded Ravel s Daphnis et Chloé and Brahms s Alto Rhapsody and Nänie .\n"
     ]
    },
    {
     "name": "stderr",
     "output_type": "stream",
     "text": [
      " 92%|███████████████████████████████████████████████████████▉     | 918/1000 [00:52<00:04, 16.64it/s]"
     ]
    },
    {
     "name": "stdout",
     "output_type": "stream",
     "text": [
      "Q41323 Q4564970 P641\n",
      "The 1941 Purdue Boilermakers football team was an American football team that represented Purdue University during the 1941 college football season .\n",
      "Q1070333 Q219526 P131\n",
      "In 2000 , she obtained a bachelors degree in Journalism from the University of Arkansas at Fayetteville .\n",
      "Q41428 Q485258 P31\n",
      "List of river s in Rio de Janeiro ( Brazilian State ) .\n",
      "Q41428 Q485258 P31\n",
      "The band consists of Adam Shearer , Alia Farah ( Weinland ) and Adam Selzer ( Norfolk & Western ) .\n"
     ]
    },
    {
     "name": "stderr",
     "output_type": "stream",
     "text": [
      " 92%|████████████████████████████████████████████████████████▏    | 922/1000 [00:52<00:04, 16.55it/s]"
     ]
    },
    {
     "name": "stdout",
     "output_type": "stream",
     "text": [
      "Q41428 Q485258 P279\n",
      "Maxim Vlasov ( born September 11 , 1986 in Samara , Russia ) is a Russian professional boxer in the light heavyweight division .\n",
      "Q502102 Q19572 P31\n",
      "Hydrogen gas and water have been found more than deep in the upper crust in the Siljan Ring borehole s and the Kola Superdeep Borehole .\n",
      "Q485258 Q43233 P31\n",
      "Pinheiros is a municipality located in the Brazilian state of Espírito Santo .\n",
      "Q485258 Q43233 P463\n",
      "Additional forces come from the United States , Croatia and 14 other NATO countries as well as from Georgia .\n"
     ]
    },
    {
     "name": "stderr",
     "output_type": "stream",
     "text": [
      " 93%|████████████████████████████████████████████████████████▍    | 926/1000 [00:52<00:04, 16.48it/s]"
     ]
    },
    {
     "name": "stdout",
     "output_type": "stream",
     "text": [
      "Q485258 Q43233 P0\n",
      "Dichostates is a genus of longhorn beetle s of the subfamily Lamiinae .\n",
      "Q485258 Q43233 P17\n",
      "El Prado District is one of thirteen districts of the province San Miguel in Peru .\n",
      "Q2736 Q213347 P641\n",
      "Richard Dick Hegarty ( 1885 3 October 1917 ) was an English professional football right back who played in the Football League for Stockport County .\n",
      "Q6305313 Q982678 P175\n",
      "Producer Martin Meissonnier introduced King Sunny Adé to Chris Blackwell , leading to the release of Juju Music in 1982 .\n"
     ]
    },
    {
     "name": "stderr",
     "output_type": "stream",
     "text": [
      " 93%|████████████████████████████████████████████████████████▋    | 930/1000 [00:53<00:04, 16.47it/s]"
     ]
    },
    {
     "name": "stdout",
     "output_type": "stream",
     "text": [
      "Q49204 Q771 P131\n",
      "She attended Smith College in Northampton , Massachusetts where she obtained her undergraduate degree in Sociology and Political Science .\n",
      "Q49204 Q771 P27\n",
      "Per Gessle was released on 8 April , 1983 and is the first solo album of Swedish pop artist Per Gessle .\n",
      "Q482994 Q1948084 P31\n",
      "Between 1978 and 2007 , 999 released fourteen singles and twelve studio album s.\n",
      "Q6708469 Q1370 P131\n",
      "She graduated from Perry Hall High School , and then Lynchburg College in Virginia , where she majored in chemistry .\n"
     ]
    },
    {
     "name": "stderr",
     "output_type": "stream",
     "text": [
      " 93%|████████████████████████████████████████████████████████▉    | 934/1000 [00:53<00:03, 16.56it/s]"
     ]
    },
    {
     "name": "stdout",
     "output_type": "stream",
     "text": [
      "Q6708469 Q1370 P570\n",
      "Four Ua Ruaircs achieved rule of the kingdom Fergal Ua Ruairc ( 956 967 ) , Art Uallach Ua Ruairc ( 1030 1046 ) , Áed Ua Ruairc ( 1067 1087 ) , and Domnall Ua Ruairc ( 1098 1102 ) .\n",
      "Q6708469 Q1370 P27\n",
      "Neha Dhupia ( born 27 August 1980 in Kochi , India ) is an Indian actress and beauty queen who has worked in several Bollywood films .\n",
      "Q3296256 Q8134 P279\n",
      "He received a Master of Arts in economics from the University of Chicago , where he also did doctoral work in applied economics .\n",
      "Q30 Q1026858 P17\n",
      "Jacqui Irwin is an American politician currently serving in the California State Assembly .\n"
     ]
    },
    {
     "name": "stderr",
     "output_type": "stream",
     "text": [
      " 94%|█████████████████████████████████████████████████████████▏   | 938/1000 [00:53<00:03, 16.72it/s]"
     ]
    },
    {
     "name": "stdout",
     "output_type": "stream",
     "text": [
      "Q30 Q1026858 P641\n",
      "Byron Clark Webster ( born 31 March 1987 ) is an English professional footballer who plays as a defender for League One club Millwall .\n",
      "Q30 Q1026858 P138\n",
      "Fisheropone ( named after Brian Fisher ) is a genus of ant s in the subfamily Ponerinae .\n",
      "Q29182 Q6830400 P39\n",
      "The exact origin of the name is a mystery , however ; Bishop Howley believed it was originally named Bay Boulle by Jersey fishermen .\n",
      "Q29182 Q6830400 P571\n",
      "Peet taught his style of roasting beans to Jerry Baldwin , Zev Siegl and Gordon Bowker , who took the technique to Seattle and founded Starbucks in 1971 .\n"
     ]
    },
    {
     "name": "stderr",
     "output_type": "stream",
     "text": [
      " 94%|█████████████████████████████████████████████████████████▍   | 942/1000 [00:53<00:03, 16.63it/s]"
     ]
    },
    {
     "name": "stdout",
     "output_type": "stream",
     "text": [
      "Q29182 Q6830400 P1344\n",
      "Ridha El Louze ( born 27 April 1953 ) is a Tunisia n football defender who played for Tunisia in the 1978 FIFA World Cup .\n",
      "Q2284298 Q80583 P31\n",
      "During the Neoproterozoic , older parts of the Armorican Massif formed the northern margin of the paleocontinent Gondwana .\n",
      "Q2284298 Q80583 P735\n",
      "She first appeared in the Donald Duck cartoon Trick or Treat in 1952 , voiced by June Foray , where she helps Huey , Dewey and Louie get candy from Donald .\n",
      "Q2284298 Q80583 P27\n",
      "Stanimir Vukićević ( born August 28 , 1948 in Istok , Serbia ) is the current ambassador of Serbia to Bosnia and Herzegovina .\n"
     ]
    },
    {
     "name": "stderr",
     "output_type": "stream",
     "text": [
      " 95%|█████████████████████████████████████████████████████████▋   | 946/1000 [00:54<00:03, 16.32it/s]"
     ]
    },
    {
     "name": "stdout",
     "output_type": "stream",
     "text": [
      "Q207162 Q142 P17\n",
      "In France , the rank of prince du sang was the highest held at court after the immediate family of the king during the ancien régime and the Bourbon Restoration .\n",
      "Q207162 Q142 P176\n",
      "In fact , Maserati ceased making supercar s like the ones developed under Citroën ownership altogether , like the Bora and Khamsin .\n",
      "Q207162 Q142 P413\n",
      "Lee Falardeau ( born July 22 , 1983 ) is an American former professional ice hockey center who played in the American Hockey League ( AHL ) and ECHL .\n",
      "Q207162 Q142 P47\n",
      "In 1517 and 1518 , he was dispatched in response to petitions to suppress peasant revolts in Jiangxi , Fujian and Guangdong .\n"
     ]
    },
    {
     "name": "stderr",
     "output_type": "stream",
     "text": [
      " 95%|█████████████████████████████████████████████████████████▉   | 950/1000 [00:54<00:03, 16.58it/s]"
     ]
    },
    {
     "name": "stdout",
     "output_type": "stream",
     "text": [
      "Q81178 Q122347 P19\n",
      "Kenojuak Ashevak was born in an igloo in an Inuit camp , Ikirasaq , at the southern coast of Baffin Island .\n",
      "Q483472 Q483100 P47\n",
      "It lies in the middle of the Taurus Mountains , mostly between the provinces of Kayseri , Adana , with smaller areas within the provinces of Sivas and Kahramanmaraş .\n",
      "Q483472 Q483100 P0\n",
      "Cryosophileae is a tribe of palms in the subfamily Coryphoideae .\n",
      "Q204566 Q43194 P20\n",
      "Discovered by George Forrest in Yunnan ( 1912 ) and in northern Burma ( 1914 ) , described by William Wright Smith in 1916 .\n"
     ]
    },
    {
     "name": "stderr",
     "output_type": "stream",
     "text": [
      " 95%|██████████████████████████████████████████████████████████▏  | 954/1000 [00:54<00:02, 16.72it/s]"
     ]
    },
    {
     "name": "stdout",
     "output_type": "stream",
     "text": [
      "Q2747456 Q2006518 P361\n",
      "More distant agnatic descendants would henceforth bear the title of Prince ( ess ) of the Blood Imperial .\n",
      "Q1208682 Q653545 P47\n",
      "On March 22 , 2005 , Aikawa , along with the towns of Ani , Moriyoshi and Takanosu ( all from Kitaakita District ) merged to create the city of Kitaakita .\n",
      "Q1208682 Q653545 P9\n",
      "1180 29 July 1201 ) , married to King Philip II of France ##### Gertrude ( assassinated 8 September 1213 ) , married to King Andrew II of Hungary ##### Saint Hedwig ( c.\n",
      "Q83247 Q45 P17\n",
      "The Medina Museum is located in Braga , Portugal , in the same building of the Pius XII Museum .\n"
     ]
    },
    {
     "name": "stderr",
     "output_type": "stream",
     "text": [
      " 96%|██████████████████████████████████████████████████████████▍  | 958/1000 [00:54<00:02, 16.71it/s]"
     ]
    },
    {
     "name": "stdout",
     "output_type": "stream",
     "text": [
      "Q2569452 Q3410 P131\n",
      "He was Vicar of St Leonards Church , Flamstead , Hertfordshire , between 1978 and 1982 .\n",
      "Q2569452 Q3410 P131\n",
      "Vainikkala is a small village in Lappeenranta South Karelia , Eastern Finland .\n",
      "Q2569452 Q3410 P17\n",
      "Baie Sainte Anne is an administrative district of Seychelles located on the island of Praslin .\n",
      "Q2569452 Q3410 P530\n",
      "Protothecal mastitis is endemic worldwide , although most cases of infected herds have been reported in Germany , the United States , and Brazil .\n"
     ]
    },
    {
     "name": "stderr",
     "output_type": "stream",
     "text": [
      " 96%|██████████████████████████████████████████████████████████▋  | 962/1000 [00:55<00:02, 16.40it/s]"
     ]
    },
    {
     "name": "stdout",
     "output_type": "stream",
     "text": [
      "Q2569452 Q3410 P31\n",
      "Administratively it is divided between the comune s of Alagna Valsesia and Rima San Giuseppe .\n",
      "Q2569452 Q3410 P17\n",
      "Vounargo ( ) is a village in the municipal unit of Iardanos , Elis , Greece .\n",
      "Q5328835 Q181811 P155\n",
      "From about 1845 , he worked on the construction of the East Lincolnshire Railway and , from 1849 , on the construction of the Great Northern Railway between London and Peterborough .\n",
      "Q5328835 Q181811 P106\n",
      "Miguel Steward , better known as Miguel Migs is a deep house DJ , producer and musician from San Francisco , California .\n"
     ]
    },
    {
     "name": "stderr",
     "output_type": "stream",
     "text": [
      " 97%|██████████████████████████████████████████████████████████▉  | 966/1000 [00:55<00:02, 16.55it/s]"
     ]
    },
    {
     "name": "stdout",
     "output_type": "stream",
     "text": [
      "Q206984 Q847 P641\n",
      "The Armenia Fed Cup team represents Armenia in Fed Cup tennis competition and are governed by the Armenian Tennis Federation .\n",
      "Q1163555 Q364163 P86\n",
      "Easy Living is a ballad from a film of the same name , composed by Ralph Rainger with lyrics by Leo Robin .\n",
      "Q736742 Q145 P17\n",
      "The 1919 Wimbledon Championships took place on the outdoor grass courts at the All England Lawn Tennis and Croquet Club in Wimbledon , London , United Kingdom .\n",
      "Q702557 Q4822467 P175\n",
      "Aurora ( ) is Taiwanese Mandopop artist Angela Chang s ( ) second Mandarin studio album .\n"
     ]
    },
    {
     "name": "stderr",
     "output_type": "stream",
     "text": [
      " 97%|███████████████████████████████████████████████████████████▏ | 970/1000 [00:55<00:01, 16.65it/s]"
     ]
    },
    {
     "name": "stdout",
     "output_type": "stream",
     "text": [
      "Q702557 Q4822467 P0\n",
      "Pleurotomella papyracea is a species of sea snail , a marine gastropod mollusk in the family Raphitomidae .\n",
      "Q702557 Q4822467 P17\n",
      "Debelja is a village in the municipality of Nova Varoš , western Serbia .\n",
      "Q7539213 Q215380 P31\n",
      "Based on a True Story disbanded the following year after Belke relocated to Toronto , and Warhurst , Black and Smith formed the group Slaveco . with SNFU vocalist Ken Chinn in 2002 .\n",
      "Q7539213 Q215380 P17\n",
      "Tyrell Sales ( born January 1 , 1986 ) is an American football player who last played professionally for the Parma Panthers , a team based in Parma , Italy .\n"
     ]
    },
    {
     "name": "stderr",
     "output_type": "stream",
     "text": [
      " 97%|███████████████████████████████████████████████████████████▍ | 974/1000 [00:55<00:01, 16.58it/s]"
     ]
    },
    {
     "name": "stdout",
     "output_type": "stream",
     "text": [
      "Q7539213 Q215380 P106\n",
      "Rafael Andrade Navarrete ( February 25 , 1856 , Ardales June 21 , 1928 ) was a Spanish politician and lawyer .\n",
      "Q7539213 Q215380 P31\n",
      "The population of Kamakwie is predominantly from the Limba , Temne , and Loko ethnic group s.\n",
      "Q22647 Q42937 P1344\n",
      "In Homer s works , the term appeared only once ( Iliad 2 . 867 ) , in the form ( of incomprehensible speech ) , used of the Carians fighting for Troy during the Trojan War .\n",
      "Q22647 Q42937 P530\n",
      "A number of countries have an Apple IMC including Poland , Romania , Russia , South Africa , Turkey and UAE .\n"
     ]
    },
    {
     "name": "stderr",
     "output_type": "stream",
     "text": [
      " 98%|███████████████████████████████████████████████████████████▋ | 978/1000 [00:56<00:01, 16.66it/s]"
     ]
    },
    {
     "name": "stdout",
     "output_type": "stream",
     "text": [
      "Q25116 Q638 P279\n",
      "His vocal and instrumental repertoire covers an extremely wide range of music such as classical and opera , Neapolitan song , Argentine and Russian tango , jazz and pop .\n",
      "Q376749 Q902 P17\n",
      "The Duke of Yorks also maintains connections with Valley Forge Military Academy and College , Wayne , Pennsylvania , and Faujdarhat Cadet College , Chittagong , Bangladesh .\n",
      "Q4558 Q275662 P361\n",
      "Arising in the Cascade Range near Mount Hood , it flows northeast , then west to its confluence with the Columbia near The Dalles .\n",
      "Q4558 Q275662 P641\n",
      "Pavel Simr ( born 6 July 1983 ) is a Czech footballer , who plays as a forward .\n"
     ]
    },
    {
     "name": "stderr",
     "output_type": "stream",
     "text": [
      " 98%|███████████████████████████████████████████████████████████▉ | 982/1000 [00:56<00:01, 16.72it/s]"
     ]
    },
    {
     "name": "stdout",
     "output_type": "stream",
     "text": [
      "Q35339 Q131359 P452\n",
      "WWE Free For All is a professional wrestling television program produced by WWE .\n",
      "Q5539685 Q408516 P138\n",
      "His father , Colonel George Gibbs , was an ardent mineralogist ; the mineral gibbsite was named after him , and his collection was finally bought by Yale College .\n",
      "Q5539685 Q408516 P20\n",
      "Adolph Nehrkorn ( 29 December 1841 , in Riddagshausen , today part of Braunschweig 8 April 1916 , in Braunschweig ) was a German ornithologist and collector of bird eggs .\n",
      "Q5539685 Q408516 P59\n",
      "Kappa Pavonis ( κ Pav ) is a star in the constellation Pavo .\n"
     ]
    },
    {
     "name": "stderr",
     "output_type": "stream",
     "text": [
      " 99%|████████████████████████████████████████████████████████████▏| 986/1000 [00:56<00:00, 16.81it/s]"
     ]
    },
    {
     "name": "stdout",
     "output_type": "stream",
     "text": [
      "Q53340 Q53342 P7\n",
      "Bob Bryan and Mike Bryan were the defending champions , but lost to wildcards Jonathan Marray and Frederik Nielsen in the semifinals .\n",
      "Q53340 Q53342 P127\n",
      "In Doctor Who , the Doctor accidentally enters a parallel universe while attempting to repair the TARDIS console in Inferno .\n",
      "Q53340 Q53342 P175\n",
      "It includes a cover of the 1981 Squeeze hit Tempted , as well as There Goes My Baby , a 1959 hit single from The Drifters .\n",
      "Q1994052 Q379052 P449\n",
      "Converges first tour in support of Axe to Fall was the Metalocalypse tour in late 2009 sponsored by Cartoon Network s Adult Swim .\n"
     ]
    },
    {
     "name": "stderr",
     "output_type": "stream",
     "text": [
      " 99%|████████████████████████████████████████████████████████████▍| 990/1000 [00:56<00:00, 16.71it/s]"
     ]
    },
    {
     "name": "stdout",
     "output_type": "stream",
     "text": [
      "Q21198 Q11660 P361\n",
      "He joined the Department of Computer Science at Stanford University in the early sixties , beginning his pioneering work in the relatively new field of artificial intelligence .\n",
      "Q21198 Q11660 P17\n",
      "The specimens from known localities were collected near Trelew and Gaiman in Chubut Province , Argentina .\n",
      "Q937 Q11452 P170\n",
      "The first goal of Virgo is to directly observe gravitational wave s , a straightforward prediction of Albert Einsteins general relativity .\n",
      "Q937 Q11452 P118\n",
      "Bob McGann ( 8 September 1905 20 April 1989 ) was a former Australian rules football er who played with Footscray in the Victorian Football League ( VFL ) .\n"
     ]
    },
    {
     "name": "stderr",
     "output_type": "stream",
     "text": [
      " 99%|████████████████████████████████████████████████████████████▋| 994/1000 [00:57<00:00, 16.72it/s]"
     ]
    },
    {
     "name": "stdout",
     "output_type": "stream",
     "text": [
      "Q937 Q11452 P102\n",
      "In a move that was seen by many as politically motivated , Smock was fired by House Speaker Newt Gingrich in 1995 when the Republican Party took control of the House .\n",
      "Q937 Q11452 P118\n",
      "Phil Gehrig ( 25 January 1935 15 July 1993 ) was a former Australian rules football er who played with Footscray in the Victorian Football League ( VFL ) .\n",
      "Q49210 Q797078 P361\n",
      "In 2009 , Bloom graduated from New York University s Tisch School of the Arts with a BFA in Drama .\n",
      "Q49210 Q797078 P279\n",
      "Inner city posts followed before promotion to the Suffragan Bishopic of Stepney , a post he held until transferring to the Deanery at Salisbury sixteen years later .\n"
     ]
    },
    {
     "name": "stderr",
     "output_type": "stream",
     "text": [
      "100%|████████████████████████████████████████████████████████████▉| 998/1000 [00:57<00:00, 16.75it/s]"
     ]
    },
    {
     "name": "stdout",
     "output_type": "stream",
     "text": [
      "Q49210 Q797078 P641\n",
      "Fadi El Khatib ( ) , born December 18 , 1979 ) is a Lebanese professional basketball player currently playing for Fujian Sturgeons in the Chinese Basketball Association .\n",
      "Q49210 Q797078 P131\n",
      "One of Wrights Vesuvius paintings known as Vesuvius from Portici , is held at the Huntington Library at San Marino in California .\n",
      "Q49210 Q797078 P31\n",
      "He was elected to the Legislative Council of Hong Kong ( Legco ) , representing the Medical functional constituency in 2000 Legco election .\n",
      "Q644604 Q208017 P7\n",
      "Having killed Acrisius , Perseus , who was next in line for the throne , gave the kingdom to Megapenthes ( great mourning ) son of Proetus and took over Megapenthes kingdom of Tiryns .\n"
     ]
    },
    {
     "name": "stderr",
     "output_type": "stream",
     "text": [
      "100%|████████████████████████████████████████████████████████████| 1000/1000 [00:57<00:00, 17.42it/s]"
     ]
    },
    {
     "name": "stdout",
     "output_type": "stream",
     "text": [
      "Q13266 Q13270 P279\n",
      "Cookie s are also known as biscuit s in the United Kingdom and other parts of the world .\n"
     ]
    },
    {
     "name": "stderr",
     "output_type": "stream",
     "text": [
      "\n"
     ]
    }
   ],
   "source": [
    "gold=[]\n",
    "preds = []\n",
    "for sample in tqdm.tqdm(test_data[:1000]):\n",
    "    vertexSet = sample[\"vertexSet\"]\n",
    "    if len(vertexSet)==2:\n",
    "        \n",
    "        e1 = vertexSet[0][\"kbID\"]\n",
    "        e2 = vertexSet[1][\"kbID\"]\n",
    "    edgeSet= sample[\"edgeSet\"]\n",
    "    \n",
    "    r = edgeSet[0][\"kbID\"]\n",
    "    # print(e1,e2,r)\n",
    "    # print(\" \".join(sample[\"tokens\"]))\n",
    "    \n",
    "    if e1.startswith(\"Q\") and e2.startswith(\"Q\"):\n",
    "        try:\n",
    "            pred_rs = predict_relations(e1,e2,top_n=5)\n",
    "            gold.append(r)\n",
    "            preds.append(pred_rs)\n",
    "        except Exception as msg:\n",
    "            print(msg)\n"
   ]
  },
  {
   "cell_type": "code",
   "execution_count": 38,
   "id": "034d5ef3-8d6a-4258-adb4-4dab7c7f82bb",
   "metadata": {},
   "outputs": [],
   "source": [
    "def get_generic(l):\n",
    "    return sorted([int(x.replace(\"P\", \"\")) for x in l][:3])[0]"
   ]
  },
  {
   "cell_type": "code",
   "execution_count": 39,
   "id": "597cd488-4119-4045-947f-263f3575dbbc",
   "metadata": {},
   "outputs": [],
   "source": [
    "preds_generic = [f\"P{x}\" for x in list(map(get_generic, preds))]"
   ]
  },
  {
   "cell_type": "code",
   "execution_count": 40,
   "id": "9dfd858b-dffa-44df-872c-f53e734d5452",
   "metadata": {},
   "outputs": [
    {
     "data": {
      "text/plain": [
       "940"
      ]
     },
     "execution_count": 40,
     "metadata": {},
     "output_type": "execute_result"
    }
   ],
   "source": [
    "len(preds_generic)"
   ]
  },
  {
   "cell_type": "code",
   "execution_count": 41,
   "id": "171f5b77-0ec4-442b-af38-6402d9319629",
   "metadata": {
    "scrolled": true,
    "tags": []
   },
   "outputs": [
    {
     "data": {
      "text/plain": [
       "['P36',\n",
       " 'P131',\n",
       " 'P272',\n",
       " 'P162',\n",
       " 'P86',\n",
       " 'P485',\n",
       " 'P485',\n",
       " 'P36',\n",
       " 'P36',\n",
       " 'P1427',\n",
       " 'P1427',\n",
       " 'P115',\n",
       " 'P54',\n",
       " 'P54',\n",
       " 'P150',\n",
       " 'P138',\n",
       " 'P734',\n",
       " 'P61',\n",
       " 'P101',\n",
       " 'P101',\n",
       " 'P101',\n",
       " 'P101',\n",
       " 'P825',\n",
       " 'P825',\n",
       " 'P37',\n",
       " 'P37',\n",
       " 'P54',\n",
       " 'P54',\n",
       " 'P31',\n",
       " 'P31',\n",
       " 'P31',\n",
       " 'P17',\n",
       " 'P31',\n",
       " 'P37',\n",
       " 'P37',\n",
       " 'P101',\n",
       " 'P101',\n",
       " 'P101',\n",
       " 'P31',\n",
       " 'P31',\n",
       " 'P31',\n",
       " 'P31',\n",
       " 'P61',\n",
       " 'P65',\n",
       " 'P65',\n",
       " 'P527',\n",
       " 'P344',\n",
       " 'P272',\n",
       " 'P86',\n",
       " 'P115',\n",
       " 'P35',\n",
       " 'P118',\n",
       " 'P118',\n",
       " 'P57',\n",
       " 'P57',\n",
       " 'P6',\n",
       " 'P118',\n",
       " 'P19',\n",
       " 'P6',\n",
       " 'P6',\n",
       " 'P97',\n",
       " 'P97',\n",
       " 'P97',\n",
       " 'P425',\n",
       " 'P131',\n",
       " 'P17',\n",
       " 'P286',\n",
       " 'P20',\n",
       " 'P20',\n",
       " 'P20',\n",
       " 'P20',\n",
       " 'P20',\n",
       " 'P20',\n",
       " 'P115',\n",
       " 'P115',\n",
       " 'P115',\n",
       " 'P509',\n",
       " 'P542',\n",
       " 'P542',\n",
       " 'P36',\n",
       " 'P36',\n",
       " 'P36',\n",
       " 'P36',\n",
       " 'P194',\n",
       " 'P194',\n",
       " 'P194',\n",
       " 'P54',\n",
       " 'P54',\n",
       " 'P54',\n",
       " 'P37',\n",
       " 'P106',\n",
       " 'P112',\n",
       " 'P112',\n",
       " 'P163',\n",
       " 'P163',\n",
       " 'P20',\n",
       " 'P2354',\n",
       " 'P2354',\n",
       " 'P2354',\n",
       " 'P2354',\n",
       " 'P2354',\n",
       " 'P2354',\n",
       " 'P735',\n",
       " 'P735',\n",
       " 'P279',\n",
       " 'P6',\n",
       " 'P31',\n",
       " 'P205',\n",
       " 'P205',\n",
       " 'P205',\n",
       " 'P205',\n",
       " 'P205',\n",
       " 'P150',\n",
       " 'P84',\n",
       " 'P162',\n",
       " 'P162',\n",
       " 'P162',\n",
       " 'P162',\n",
       " 'P162',\n",
       " 'P31',\n",
       " 'P106',\n",
       " 'P106',\n",
       " 'P36',\n",
       " 'P1552',\n",
       " 'P20',\n",
       " 'P20',\n",
       " 'P35',\n",
       " 'P35',\n",
       " 'P6',\n",
       " 'P6',\n",
       " 'P6',\n",
       " 'P17',\n",
       " 'P166',\n",
       " 'P166',\n",
       " 'P166',\n",
       " 'P460',\n",
       " 'P19',\n",
       " 'P19',\n",
       " 'P69',\n",
       " 'P6',\n",
       " 'P6',\n",
       " 'P2354',\n",
       " 'P113',\n",
       " 'P36',\n",
       " 'P36',\n",
       " 'P36',\n",
       " 'P31',\n",
       " 'P31',\n",
       " 'P495',\n",
       " 'P31',\n",
       " 'P31',\n",
       " 'P31',\n",
       " 'P741',\n",
       " 'P741',\n",
       " 'P31',\n",
       " 'P6',\n",
       " 'P417',\n",
       " 'P86',\n",
       " 'P86',\n",
       " 'P66',\n",
       " 'P66',\n",
       " 'P735',\n",
       " 'P19',\n",
       " 'P734',\n",
       " 'P407',\n",
       " 'P641',\n",
       " 'P641',\n",
       " 'P36',\n",
       " 'P36',\n",
       " 'P88',\n",
       " 'P286',\n",
       " 'P425',\n",
       " 'P425',\n",
       " 'P27',\n",
       " 'P421',\n",
       " 'P194',\n",
       " 'P194',\n",
       " 'P135',\n",
       " 'P135',\n",
       " 'P400',\n",
       " 'P400',\n",
       " 'P400',\n",
       " 'P400',\n",
       " 'P6',\n",
       " 'P20',\n",
       " 'P20',\n",
       " 'P35',\n",
       " 'P35',\n",
       " 'P36',\n",
       " 'P36',\n",
       " 'P97',\n",
       " 'P31',\n",
       " 'P31',\n",
       " 'P31',\n",
       " 'P31',\n",
       " 'P31',\n",
       " 'P36',\n",
       " 'P36',\n",
       " 'P452',\n",
       " 'P1151',\n",
       " 'P1151',\n",
       " 'P1151',\n",
       " 'P1151',\n",
       " 'P1151',\n",
       " 'P509',\n",
       " 'P6',\n",
       " 'P150',\n",
       " 'P150',\n",
       " 'P735',\n",
       " 'P735',\n",
       " 'P735',\n",
       " 'P272',\n",
       " 'P1552',\n",
       " 'P35',\n",
       " 'P35',\n",
       " 'P54',\n",
       " 'P54',\n",
       " 'P54',\n",
       " 'P6',\n",
       " 'P17',\n",
       " 'P425',\n",
       " 'P6',\n",
       " 'P17',\n",
       " 'P647',\n",
       " 'P86',\n",
       " 'P86',\n",
       " 'P39',\n",
       " 'P562',\n",
       " 'P131',\n",
       " 'P3174',\n",
       " 'P17',\n",
       " 'P17',\n",
       " 'P17',\n",
       " 'P272',\n",
       " 'P272',\n",
       " 'P6',\n",
       " 'P6',\n",
       " 'P37',\n",
       " 'P37',\n",
       " 'P735',\n",
       " 'P735',\n",
       " 'P735',\n",
       " 'P159',\n",
       " 'P159',\n",
       " 'P112',\n",
       " 'P112',\n",
       " 'P112',\n",
       " 'P36',\n",
       " 'P36',\n",
       " 'P36',\n",
       " 'P38',\n",
       " 'P38',\n",
       " 'P6',\n",
       " 'P6',\n",
       " 'P177',\n",
       " 'P36',\n",
       " 'P19',\n",
       " 'P19',\n",
       " 'P69',\n",
       " 'P31',\n",
       " 'P35',\n",
       " 'P35',\n",
       " 'P35',\n",
       " 'P35',\n",
       " 'P610',\n",
       " 'P610',\n",
       " 'P610',\n",
       " 'P19',\n",
       " 'P3174',\n",
       " 'P161',\n",
       " 'P264',\n",
       " 'P97',\n",
       " 'P6',\n",
       " 'P106',\n",
       " 'P86',\n",
       " 'P163',\n",
       " 'P163',\n",
       " 'P641',\n",
       " 'P35',\n",
       " 'P19',\n",
       " 'P19',\n",
       " 'P19',\n",
       " 'P35',\n",
       " 'P37',\n",
       " 'P37',\n",
       " 'P37',\n",
       " 'P54',\n",
       " 'P84',\n",
       " 'P190',\n",
       " 'P190',\n",
       " 'P54',\n",
       " 'P131',\n",
       " 'P364',\n",
       " 'P31',\n",
       " 'P31',\n",
       " 'P31',\n",
       " 'P31',\n",
       " 'P162',\n",
       " 'P102',\n",
       " 'P102',\n",
       " 'P102',\n",
       " 'P36',\n",
       " 'P36',\n",
       " 'P36',\n",
       " 'P36',\n",
       " 'P36',\n",
       " 'P101',\n",
       " 'P734',\n",
       " 'P734',\n",
       " 'P734',\n",
       " 'P734',\n",
       " 'P607',\n",
       " 'P607',\n",
       " 'P20',\n",
       " 'P20',\n",
       " 'P734',\n",
       " 'P734',\n",
       " 'P414',\n",
       " 'P54',\n",
       " 'P54',\n",
       " 'P19',\n",
       " 'P69',\n",
       " 'P69',\n",
       " 'P69',\n",
       " 'P69',\n",
       " 'P69',\n",
       " 'P36',\n",
       " 'P36',\n",
       " 'P264',\n",
       " 'P6',\n",
       " 'P102',\n",
       " 'P112',\n",
       " 'P6',\n",
       " 'P6',\n",
       " 'P6',\n",
       " 'P286',\n",
       " 'P286',\n",
       " 'P734',\n",
       " 'P734',\n",
       " 'P38',\n",
       " 'P38',\n",
       " 'P19',\n",
       " 'P19',\n",
       " 'P19',\n",
       " 'P286',\n",
       " 'P88',\n",
       " 'P102',\n",
       " 'P102',\n",
       " 'P131',\n",
       " 'P272',\n",
       " 'P272',\n",
       " 'P272',\n",
       " 'P272',\n",
       " 'P272',\n",
       " 'P36',\n",
       " 'P39',\n",
       " 'P39',\n",
       " 'P31',\n",
       " 'P84',\n",
       " 'P31',\n",
       " 'P35',\n",
       " 'P118',\n",
       " 'P118',\n",
       " 'P237',\n",
       " 'P36',\n",
       " 'P361',\n",
       " 'P361',\n",
       " 'P361',\n",
       " 'P31',\n",
       " 'P108',\n",
       " 'P36',\n",
       " 'P36',\n",
       " 'P2286',\n",
       " 'P2286',\n",
       " 'P2286',\n",
       " 'P2286',\n",
       " 'P2286',\n",
       " 'P674',\n",
       " 'P19',\n",
       " 'P19',\n",
       " 'P19',\n",
       " 'P19',\n",
       " 'P358',\n",
       " 'P36',\n",
       " 'P138',\n",
       " 'P138',\n",
       " 'P36',\n",
       " 'P36',\n",
       " 'P36',\n",
       " 'P6',\n",
       " 'P272',\n",
       " 'P140',\n",
       " 'P140',\n",
       " 'P27',\n",
       " 'P828',\n",
       " 'P366',\n",
       " 'P366',\n",
       " 'P366',\n",
       " 'P175',\n",
       " 'P1552',\n",
       " 'P607',\n",
       " 'P607',\n",
       " 'P20',\n",
       " 'P97',\n",
       " 'P36',\n",
       " 'P36',\n",
       " 'P36',\n",
       " 'P36',\n",
       " 'P69',\n",
       " 'P156',\n",
       " 'P156',\n",
       " 'P98',\n",
       " 'P36',\n",
       " 'P31',\n",
       " 'P169',\n",
       " 'P1533',\n",
       " 'P1533',\n",
       " 'P1533',\n",
       " 'P6',\n",
       " 'P6',\n",
       " 'P36',\n",
       " 'P36',\n",
       " 'P36',\n",
       " 'P17',\n",
       " 'P31',\n",
       " 'P3174',\n",
       " 'P31',\n",
       " 'P31',\n",
       " 'P17',\n",
       " 'P399',\n",
       " 'P399',\n",
       " 'P162',\n",
       " 'P69',\n",
       " 'P69',\n",
       " 'P69',\n",
       " 'P35',\n",
       " 'P35',\n",
       " 'P35',\n",
       " 'P205',\n",
       " 'P54',\n",
       " 'P127',\n",
       " 'P19',\n",
       " 'P19',\n",
       " 'P452',\n",
       " 'P452',\n",
       " 'P122',\n",
       " 'P162',\n",
       " 'P162',\n",
       " 'P131',\n",
       " 'P131',\n",
       " 'P37',\n",
       " 'P37',\n",
       " 'P37',\n",
       " 'P115',\n",
       " 'P86',\n",
       " 'P86',\n",
       " 'P150',\n",
       " 'P150',\n",
       " 'P150',\n",
       " 'P361',\n",
       " 'P800',\n",
       " 'P6',\n",
       " 'P6',\n",
       " 'P6',\n",
       " 'P137',\n",
       " 'P6',\n",
       " 'P479',\n",
       " 'P479',\n",
       " 'P479',\n",
       " 'P131',\n",
       " 'P647',\n",
       " 'P647',\n",
       " 'P647',\n",
       " 'P166',\n",
       " 'P166',\n",
       " 'P166',\n",
       " 'P115',\n",
       " 'P115',\n",
       " 'P115',\n",
       " 'P115',\n",
       " 'P115',\n",
       " 'P103',\n",
       " 'P101',\n",
       " 'P512',\n",
       " 'P102',\n",
       " 'P97',\n",
       " 'P97',\n",
       " 'P19',\n",
       " 'P69',\n",
       " 'P115',\n",
       " 'P115',\n",
       " 'P6',\n",
       " 'P6',\n",
       " 'P17',\n",
       " 'P122',\n",
       " 'P122',\n",
       " 'P122',\n",
       " 'P122',\n",
       " 'P122',\n",
       " 'P127',\n",
       " 'P127',\n",
       " 'P36',\n",
       " 'P36',\n",
       " 'P36',\n",
       " 'P734',\n",
       " 'P17',\n",
       " 'P17',\n",
       " 'P6',\n",
       " 'P6',\n",
       " 'P6',\n",
       " 'P734',\n",
       " 'P734',\n",
       " 'P403',\n",
       " 'P403',\n",
       " 'P39',\n",
       " 'P119',\n",
       " 'P530',\n",
       " 'P530',\n",
       " 'P530',\n",
       " 'P530',\n",
       " 'P530',\n",
       " 'P530',\n",
       " 'P123',\n",
       " 'P17',\n",
       " 'P17',\n",
       " 'P54',\n",
       " 'P36',\n",
       " 'P36',\n",
       " 'P31',\n",
       " 'P31',\n",
       " 'P22',\n",
       " 'P22',\n",
       " 'P22',\n",
       " 'P17',\n",
       " 'P162',\n",
       " 'P162',\n",
       " 'P57',\n",
       " 'P66',\n",
       " 'P31',\n",
       " 'P6',\n",
       " 'P6',\n",
       " 'P6',\n",
       " 'P25',\n",
       " 'P6',\n",
       " 'P6',\n",
       " 'P69',\n",
       " 'P69',\n",
       " 'P69',\n",
       " 'P69',\n",
       " 'P150',\n",
       " 'P6',\n",
       " 'P169',\n",
       " 'P161',\n",
       " 'P161',\n",
       " 'P161',\n",
       " 'P179',\n",
       " 'P179',\n",
       " 'P17',\n",
       " 'P17',\n",
       " 'P17',\n",
       " 'P35',\n",
       " 'P734',\n",
       " 'P734',\n",
       " 'P36',\n",
       " 'P6',\n",
       " 'P37',\n",
       " 'P6',\n",
       " 'P19',\n",
       " 'P6',\n",
       " 'P6',\n",
       " 'P6',\n",
       " 'P6',\n",
       " 'P6',\n",
       " 'P163',\n",
       " 'P69',\n",
       " 'P69',\n",
       " 'P69',\n",
       " 'P790',\n",
       " 'P1552',\n",
       " 'P1552',\n",
       " 'P39',\n",
       " 'P358',\n",
       " 'P19',\n",
       " 'P19',\n",
       " 'P19',\n",
       " 'P118',\n",
       " 'P115',\n",
       " 'P115',\n",
       " 'P57',\n",
       " 'P6',\n",
       " 'P6',\n",
       " 'P6',\n",
       " 'P790',\n",
       " 'P790',\n",
       " 'P790',\n",
       " 'P790',\n",
       " 'P31',\n",
       " 'P69',\n",
       " 'P69',\n",
       " 'P69',\n",
       " 'P1313',\n",
       " 'P17',\n",
       " 'P17',\n",
       " 'P6',\n",
       " 'P6',\n",
       " 'P6',\n",
       " 'P19',\n",
       " 'P37',\n",
       " 'P159',\n",
       " 'P159',\n",
       " 'P20',\n",
       " 'P19',\n",
       " 'P31',\n",
       " 'P39',\n",
       " 'P20',\n",
       " 'P97',\n",
       " 'P19',\n",
       " 'P19',\n",
       " 'P131',\n",
       " 'P161',\n",
       " 'P161',\n",
       " 'P36',\n",
       " 'P36',\n",
       " 'P36',\n",
       " 'P36',\n",
       " 'P36',\n",
       " 'P1283',\n",
       " 'P1283',\n",
       " 'P1283',\n",
       " 'P115',\n",
       " 'P39',\n",
       " 'P400',\n",
       " 'P161',\n",
       " 'P161',\n",
       " 'P161',\n",
       " 'P161',\n",
       " 'P180',\n",
       " 'P110',\n",
       " 'P735',\n",
       " 'P735',\n",
       " 'P452',\n",
       " 'P159',\n",
       " 'P27',\n",
       " 'P162',\n",
       " 'P162',\n",
       " 'P162',\n",
       " 'P31',\n",
       " 'P31',\n",
       " 'P31',\n",
       " 'P31',\n",
       " 'P108',\n",
       " 'P6',\n",
       " 'P6',\n",
       " 'P31',\n",
       " 'P69',\n",
       " 'P20',\n",
       " 'P361',\n",
       " 'P361',\n",
       " 'P38',\n",
       " 'P38',\n",
       " 'P452',\n",
       " 'P17',\n",
       " 'P17',\n",
       " 'P57',\n",
       " 'P57',\n",
       " 'P194',\n",
       " 'P20',\n",
       " 'P20',\n",
       " 'P734',\n",
       " 'P172',\n",
       " 'P17',\n",
       " 'P57',\n",
       " 'P36',\n",
       " 'P36',\n",
       " 'P17',\n",
       " 'P69',\n",
       " 'P161',\n",
       " 'P36',\n",
       " 'P36',\n",
       " 'P31',\n",
       " 'P31',\n",
       " 'P276',\n",
       " 'P17',\n",
       " 'P31',\n",
       " 'P166',\n",
       " 'P166',\n",
       " 'P166',\n",
       " 'P123',\n",
       " 'P19',\n",
       " 'P19',\n",
       " 'P6',\n",
       " 'P35',\n",
       " 'P35',\n",
       " 'P6',\n",
       " 'P358',\n",
       " 'P163',\n",
       " 'P54',\n",
       " 'P37',\n",
       " 'P194',\n",
       " 'P194',\n",
       " 'P31',\n",
       " 'P97',\n",
       " 'P31',\n",
       " 'P37',\n",
       " 'P37',\n",
       " 'P37',\n",
       " 'P50',\n",
       " 'P50',\n",
       " 'P272',\n",
       " 'P54',\n",
       " 'P31',\n",
       " 'P35',\n",
       " 'P35',\n",
       " 'P35',\n",
       " 'P35',\n",
       " 'P35',\n",
       " 'P169',\n",
       " 'P38',\n",
       " 'P1075',\n",
       " 'P31',\n",
       " 'P31',\n",
       " 'P31',\n",
       " 'P31',\n",
       " 'P31',\n",
       " 'P31',\n",
       " 'P35',\n",
       " 'P734',\n",
       " 'P734',\n",
       " 'P734',\n",
       " 'P734',\n",
       " 'P131',\n",
       " 'P131',\n",
       " 'P19',\n",
       " 'P131',\n",
       " 'P131',\n",
       " 'P108',\n",
       " 'P103',\n",
       " 'P103',\n",
       " 'P69',\n",
       " 'P69',\n",
       " 'P69',\n",
       " 'P161',\n",
       " 'P162',\n",
       " 'P36',\n",
       " 'P36',\n",
       " 'P84',\n",
       " 'P84',\n",
       " 'P17',\n",
       " 'P17',\n",
       " 'P17',\n",
       " 'P17',\n",
       " 'P6',\n",
       " 'P6',\n",
       " 'P6',\n",
       " 'P6',\n",
       " 'P562',\n",
       " 'P562',\n",
       " 'P407',\n",
       " 'P19',\n",
       " 'P166',\n",
       " 'P286',\n",
       " 'P6',\n",
       " 'P97',\n",
       " 'P19',\n",
       " 'P1308',\n",
       " 'P1308',\n",
       " 'P1308',\n",
       " 'P1308',\n",
       " 'P36',\n",
       " 'P115',\n",
       " 'P115',\n",
       " 'P115',\n",
       " 'P115',\n",
       " 'P115',\n",
       " 'P17',\n",
       " 'P17',\n",
       " 'P17',\n",
       " 'P17',\n",
       " 'P17',\n",
       " 'P50',\n",
       " 'P127',\n",
       " 'P69',\n",
       " 'P69',\n",
       " 'P69',\n",
       " 'P101',\n",
       " 'P6',\n",
       " 'P6',\n",
       " 'P832',\n",
       " 'P832',\n",
       " 'P19',\n",
       " 'P6',\n",
       " 'P36',\n",
       " 'P6',\n",
       " 'P97',\n",
       " 'P6',\n",
       " 'P6',\n",
       " 'P6',\n",
       " 'P6',\n",
       " 'P115',\n",
       " 'P115',\n",
       " 'P115',\n",
       " 'P17',\n",
       " 'P86',\n",
       " 'P131',\n",
       " 'P131',\n",
       " 'P2176',\n",
       " 'P2176',\n",
       " 'P2176',\n",
       " 'P2176',\n",
       " 'P2176',\n",
       " 'P31',\n",
       " 'P137',\n",
       " 'P137',\n",
       " 'P137',\n",
       " 'P169',\n",
       " 'P101',\n",
       " 'P101',\n",
       " 'P101',\n",
       " 'P101',\n",
       " 'P101',\n",
       " 'P6',\n",
       " 'P50',\n",
       " 'P31',\n",
       " 'P161',\n",
       " 'P161',\n",
       " 'P272',\n",
       " 'P272',\n",
       " 'P58',\n",
       " 'P91',\n",
       " 'P69',\n",
       " 'P1950',\n",
       " 'P1950',\n",
       " 'P36',\n",
       " 'P36',\n",
       " 'P36',\n",
       " 'P36',\n",
       " 'P36',\n",
       " 'P414',\n",
       " 'P97',\n",
       " 'P36',\n",
       " 'P36',\n",
       " 'P36',\n",
       " 'P36',\n",
       " 'P36',\n",
       " 'P36',\n",
       " 'P36',\n",
       " 'P162',\n",
       " 'P115',\n",
       " 'P115',\n",
       " 'P17',\n",
       " 'P17',\n",
       " 'P35',\n",
       " 'P31',\n",
       " 'P31',\n",
       " 'P86',\n",
       " 'P101',\n",
       " 'P69',\n",
       " 'P734',\n",
       " 'P734',\n",
       " 'P734',\n",
       " 'P31',\n",
       " 'P31',\n",
       " 'P31',\n",
       " 'P31',\n",
       " 'P31',\n",
       " 'P641',\n",
       " 'P551',\n",
       " 'P69',\n",
       " 'P69',\n",
       " 'P31',\n",
       " 'P36',\n",
       " 'P36',\n",
       " 'P36',\n",
       " 'P664',\n",
       " 'P17',\n",
       " 'P17',\n",
       " 'P17',\n",
       " 'P39',\n",
       " 'P39',\n",
       " 'P39',\n",
       " 'P31',\n",
       " 'P31',\n",
       " 'P31',\n",
       " 'P6',\n",
       " 'P6',\n",
       " 'P6',\n",
       " 'P6',\n",
       " 'P19',\n",
       " 'P112',\n",
       " 'P112',\n",
       " 'P6',\n",
       " 'P2579',\n",
       " 'P825',\n",
       " 'P825',\n",
       " 'P35',\n",
       " 'P150',\n",
       " 'P150',\n",
       " 'P150',\n",
       " 'P150',\n",
       " 'P150',\n",
       " 'P150',\n",
       " 'P129',\n",
       " 'P129',\n",
       " 'P31',\n",
       " 'P734',\n",
       " 'P36',\n",
       " 'P162',\n",
       " 'P162',\n",
       " 'P162',\n",
       " 'P734',\n",
       " 'P734',\n",
       " 'P734',\n",
       " 'P734',\n",
       " 'P276',\n",
       " 'P276',\n",
       " 'P50',\n",
       " 'P36',\n",
       " 'P361',\n",
       " 'P361',\n",
       " 'P272',\n",
       " 'P61',\n",
       " 'P61',\n",
       " 'P61',\n",
       " 'P741',\n",
       " 'P741',\n",
       " 'P741',\n",
       " 'P800',\n",
       " 'P136',\n",
       " 'P136',\n",
       " 'P61',\n",
       " 'P61',\n",
       " 'P61',\n",
       " 'P61',\n",
       " 'P358',\n",
       " 'P358',\n",
       " 'P358',\n",
       " 'P358',\n",
       " 'P358',\n",
       " 'P272',\n",
       " 'P31']"
      ]
     },
     "execution_count": 41,
     "metadata": {},
     "output_type": "execute_result"
    }
   ],
   "source": [
    "preds_generic"
   ]
  },
  {
   "cell_type": "code",
   "execution_count": 66,
   "id": "6a60a14a-056e-4bf5-a25c-9d07649bbf0a",
   "metadata": {},
   "outputs": [],
   "source": [
    "acc =  accuracy_score(gold, preds)"
   ]
  },
  {
   "cell_type": "code",
   "execution_count": 67,
   "id": "eb4994fc-6f03-470d-b668-e17518bef79b",
   "metadata": {},
   "outputs": [
    {
     "data": {
      "text/plain": [
       "0.20212765957446807"
      ]
     },
     "execution_count": 67,
     "metadata": {},
     "output_type": "execute_result"
    }
   ],
   "source": [
    "acc"
   ]
  },
  {
   "cell_type": "code",
   "execution_count": 71,
   "id": "dc283025-9b3a-4e16-8a67-1672d9e5b264",
   "metadata": {},
   "outputs": [],
   "source": [
    "f1 = f1_score(gold, preds, average=\"macro\")"
   ]
  },
  {
   "cell_type": "code",
   "execution_count": 72,
   "id": "6b7c50f1-9aa1-456f-b8d2-f5c60098ec24",
   "metadata": {},
   "outputs": [
    {
     "data": {
      "text/plain": [
       "0.12299598469090872"
      ]
     },
     "execution_count": 72,
     "metadata": {},
     "output_type": "execute_result"
    }
   ],
   "source": [
    "f1"
   ]
  },
  {
   "cell_type": "code",
   "execution_count": 73,
   "id": "6dcf4898-5954-4fcf-9238-ded3a5158af0",
   "metadata": {},
   "outputs": [],
   "source": [
    "f1 = f1_score(gold, preds, average=\"micro\")"
   ]
  },
  {
   "cell_type": "code",
   "execution_count": 74,
   "id": "5dcfc32a-7607-4de6-9bae-50ad06fa277c",
   "metadata": {},
   "outputs": [
    {
     "data": {
      "text/plain": [
       "0.20212765957446807"
      ]
     },
     "execution_count": 74,
     "metadata": {},
     "output_type": "execute_result"
    }
   ],
   "source": [
    "f1"
   ]
  },
  {
   "cell_type": "code",
   "execution_count": 42,
   "id": "56a708c9-a4e0-4864-be5e-ef50e8cb01a4",
   "metadata": {},
   "outputs": [],
   "source": [
    "acc_ = accuracy_score(gold, preds_generic)"
   ]
  },
  {
   "cell_type": "code",
   "execution_count": 44,
   "id": "4969fbb5-19ea-40b2-978e-ce04839606da",
   "metadata": {},
   "outputs": [
    {
     "data": {
      "text/plain": [
       "0.11595744680851064"
      ]
     },
     "execution_count": 44,
     "metadata": {},
     "output_type": "execute_result"
    }
   ],
   "source": [
    "acc_ # top3, lowest"
   ]
  },
  {
   "cell_type": "code",
   "execution_count": 33,
   "id": "c5a9bcb4-af86-407d-93b8-8df64fc71090",
   "metadata": {},
   "outputs": [
    {
     "data": {
      "text/plain": [
       "0.08936170212765958"
      ]
     },
     "execution_count": 33,
     "metadata": {},
     "output_type": "execute_result"
    }
   ],
   "source": [
    "acc_ # top5, lowest"
   ]
  },
  {
   "cell_type": "code",
   "execution_count": 45,
   "id": "ea6d34d3-baeb-4575-80ab-38ed754988f1",
   "metadata": {},
   "outputs": [],
   "source": [
    "f1 = f1_score(gold, preds_generic, average=\"macro\")"
   ]
  },
  {
   "cell_type": "code",
   "execution_count": 46,
   "id": "c62375fd-37b0-4a5b-acea-bf91d6f9e562",
   "metadata": {},
   "outputs": [
    {
     "data": {
      "text/plain": [
       "0.05503592422655337"
      ]
     },
     "execution_count": 46,
     "metadata": {},
     "output_type": "execute_result"
    }
   ],
   "source": [
    "f1 # top3, lowest"
   ]
  },
  {
   "cell_type": "code",
   "execution_count": 36,
   "id": "e8f86fcb-6fac-4f40-a457-e73dd19a4688",
   "metadata": {},
   "outputs": [
    {
     "data": {
      "text/plain": [
       "0.032431908188006814"
      ]
     },
     "execution_count": 36,
     "metadata": {},
     "output_type": "execute_result"
    }
   ],
   "source": [
    "f1 # top5, lowest"
   ]
  },
  {
   "cell_type": "code",
   "execution_count": 12,
   "id": "58fe0a5d-b4a3-4719-95b1-c36b52f4bc43",
   "metadata": {},
   "outputs": [],
   "source": [
    "%timeit \n",
    "# Q48340 Q15995497 P449\n",
    "\n",
    "rs = predict_relations(\"Q48340\", \"Q15995497\", top_n=10)"
   ]
  },
  {
   "cell_type": "code",
   "execution_count": 13,
   "id": "a21123b6-9ffd-4ff8-8519-6878940caa01",
   "metadata": {},
   "outputs": [
    {
     "data": {
      "text/plain": [
       "['P449',\n",
       " 'P272',\n",
       " 'P750',\n",
       " 'P3301',\n",
       " 'P915',\n",
       " 'P840',\n",
       " 'P108',\n",
       " 'P364',\n",
       " 'P495',\n",
       " 'P170']"
      ]
     },
     "execution_count": 13,
     "metadata": {},
     "output_type": "execute_result"
    }
   ],
   "source": [
    "rs"
   ]
  },
  {
   "cell_type": "code",
   "execution_count": 11,
   "id": "c5502be3-711a-4727-942e-8e0adb86badb",
   "metadata": {},
   "outputs": [],
   "source": [
    "transe_file = \"data/wikiata5m/transe_wikidata5m.pkl\"\n",
    "with open(transe_file, \"rb\") as fin:\n",
    "    model = pickle.load(fin)\n",
    "\n",
    "entity2id = model.graph.entity2id\n",
    "relation2id = model.graph.relation2id\n",
    "id2relation = model.graph.id2relation\n",
    "entity_embeddings = model.solver.entity_embeddings\n",
    "relation_embeddings = model.solver.relation_embeddings"
   ]
  },
  {
   "cell_type": "code",
   "execution_count": null,
   "id": "e3c54c5e-6d68-4308-9ca6-663e792a1c27",
   "metadata": {},
   "outputs": [],
   "source": []
  },
  {
   "cell_type": "code",
   "execution_count": 53,
   "id": "c3e0b41e-3cb5-49d6-958c-169d385117bb",
   "metadata": {},
   "outputs": [],
   "source": [
    "from sklearn.preprocessing import MinMaxScaler # all the predicted relations are the same"
   ]
  },
  {
   "cell_type": "code",
   "execution_count": 9,
   "id": "23b922f6-6b74-499d-a271-f13e7bd55a35",
   "metadata": {},
   "outputs": [],
   "source": [
    "\n",
    "def predict_relations(ent1, ent2, top_n=10):\n",
    "    \"\"\"\n",
    "    ent1, ent2: Wikidata qcodes of the entities\n",
    "    model: pretrained Wikidata5m graph embeddings\n",
    "    \"\"\"\n",
    "\n",
    "    # subtract entity1 from entity2 to get the supposed relation embeddings\n",
    "    e1_id = entity2id[ent1]\n",
    "    e2_id = entity2id[ent2]\n",
    "    e1 = entity_embeddings[e1_id]\n",
    "    e2 = entity_embeddings[e2_id]\n",
    "    # rel = np.concatenate((e1,e2), 0)\n",
    "    rel = e1- e2\n",
    "    rel = rel.reshape(1, -1)  # reshape 1D to 2D array\n",
    "    \n",
    "\n",
    "    scores = []\n",
    "    for _, idx in relation2id.items():\n",
    "        relation_emb = relation_embeddings[idx].reshape(1, -1)\n",
    "        scores.append(cosine_similarity(relation_emb, rel))\n",
    "\n",
    "    scores_arr = np.array(scores).flatten()\n",
    "\n",
    "    sorted_indices = np.argsort(scores_arr)[::-1]\n",
    "    \n",
    "    rs =[]\n",
    "    for indice in sorted_indices[:top_n]:\n",
    "        relation_qcode = id2relation[indice]\n",
    "        rs.append(relation_qcode)\n",
    "        \n",
    "    \n",
    "    return rs"
   ]
  },
  {
   "cell_type": "code",
   "execution_count": 55,
   "id": "ecada273-51b7-4128-9611-847c17bf2d2f",
   "metadata": {},
   "outputs": [],
   "source": [
    "rs= predict_relations(\"Q48340\", \"Q15995497\")"
   ]
  },
  {
   "cell_type": "code",
   "execution_count": 56,
   "id": "f2cf72e9-1aac-4061-899c-ef68e7bbbc40",
   "metadata": {},
   "outputs": [
    {
     "data": {
      "text/plain": [
       "['P449',\n",
       " 'P272',\n",
       " 'P750',\n",
       " 'P3301',\n",
       " 'P915',\n",
       " 'P840',\n",
       " 'P108',\n",
       " 'P364',\n",
       " 'P495',\n",
       " 'P170']"
      ]
     },
     "execution_count": 56,
     "metadata": {},
     "output_type": "execute_result"
    }
   ],
   "source": [
    "rs"
   ]
  },
  {
   "cell_type": "code",
   "execution_count": null,
   "id": "e4f1a6b1-5051-4329-8117-425832bd0542",
   "metadata": {},
   "outputs": [],
   "source": []
  }
 ],
 "metadata": {
  "kernelspec": {
   "display_name": "creole",
   "language": "python",
   "name": "myenv"
  },
  "language_info": {
   "codemirror_mode": {
    "name": "ipython",
    "version": 3
   },
   "file_extension": ".py",
   "mimetype": "text/x-python",
   "name": "python",
   "nbconvert_exporter": "python",
   "pygments_lexer": "ipython3",
   "version": "3.10.8"
  }
 },
 "nbformat": 4,
 "nbformat_minor": 5
}
