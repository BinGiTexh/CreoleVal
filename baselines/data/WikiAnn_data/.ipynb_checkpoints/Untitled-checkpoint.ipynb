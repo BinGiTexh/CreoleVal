{
 "cells": [
  {
   "cell_type": "code",
   "execution_count": 1,
   "id": "bf418c15",
   "metadata": {},
   "outputs": [],
   "source": [
    "import pandas as pd\n",
    "import re"
   ]
  },
  {
   "cell_type": "code",
   "execution_count": 96,
   "id": "f2eb4dc8",
   "metadata": {},
   "outputs": [],
   "source": [
    "with open(\"bi/bi-dev.txt\", 'r') as f:\n",
    "    txt = []\n",
    "    for token in f:\n",
    "        txt.append(token)              #getting the file"
   ]
  },
  {
   "cell_type": "code",
   "execution_count": 97,
   "id": "1a81d819",
   "metadata": {},
   "outputs": [],
   "source": [
    "sents = {}\n",
    "k = 1\n",
    "for tok in txt:\n",
    "    if tok != '\\n':\n",
    "        sents.setdefault(k, []).append(tok)\n",
    "    elif tok == '\\n':\n",
    "        k += 1                  #creating a dict of all the individual instances"
   ]
  },
  {
   "cell_type": "code",
   "execution_count": 98,
   "id": "4c1fe4d7",
   "metadata": {},
   "outputs": [
    {
     "data": {
      "text/plain": [
       "38"
      ]
     },
     "execution_count": 98,
     "metadata": {},
     "output_type": "execute_result"
    }
   ],
   "source": [
    "len(sents)"
   ]
  },
  {
   "cell_type": "code",
   "execution_count": 99,
   "id": "c36bbe0e",
   "metadata": {},
   "outputs": [],
   "source": [
    "values = []\n",
    "for key, value in sents.items():\n",
    "    listval = []\n",
    "    for token in value:\n",
    "        token = token.split('\\t')[1]\n",
    "        listval.append(token)\n",
    "    values.append(listval)\n",
    "    "
   ]
  },
  {
   "cell_type": "code",
   "execution_count": 100,
   "id": "36d6a910",
   "metadata": {},
   "outputs": [],
   "source": [
    "tags = {}\n",
    "tags['LOC'] = 0\n",
    "tags['ORG'] = 0\n",
    "tags['PER'] = 0"
   ]
  },
  {
   "cell_type": "code",
   "execution_count": 101,
   "id": "6227d5d0",
   "metadata": {},
   "outputs": [],
   "source": [
    "for tag in values:\n",
    "    if 'B-LOC\\n' in tag:\n",
    "        tags['LOC'] += 1\n",
    "    elif 'B-PER\\n' in tag:\n",
    "        tags['PER'] += 1\n",
    "    elif 'B-ORG\\n' in tag:\n",
    "        tags['ORG'] += 1"
   ]
  },
  {
   "cell_type": "code",
   "execution_count": 102,
   "id": "15161de2",
   "metadata": {
    "scrolled": true
   },
   "outputs": [
    {
     "data": {
      "text/plain": [
       "{'LOC': 34, 'ORG': 0, 'PER': 4}"
      ]
     },
     "execution_count": 102,
     "metadata": {},
     "output_type": "execute_result"
    }
   ],
   "source": [
    "tags"
   ]
  },
  {
   "cell_type": "code",
   "execution_count": 93,
   "id": "bdbffabf",
   "metadata": {},
   "outputs": [],
   "source": [
    "df = pd.DataFrame.from_dict(each_tag, orient=\"index\", columns = [\"frequency\"])\n"
   ]
  },
  {
   "cell_type": "code",
   "execution_count": 94,
   "id": "af5d623e",
   "metadata": {},
   "outputs": [
    {
     "data": {
      "text/html": [
       "<div>\n",
       "<style scoped>\n",
       "    .dataframe tbody tr th:only-of-type {\n",
       "        vertical-align: middle;\n",
       "    }\n",
       "\n",
       "    .dataframe tbody tr th {\n",
       "        vertical-align: top;\n",
       "    }\n",
       "\n",
       "    .dataframe thead th {\n",
       "        text-align: right;\n",
       "    }\n",
       "</style>\n",
       "<table border=\"1\" class=\"dataframe\">\n",
       "  <thead>\n",
       "    <tr style=\"text-align: right;\">\n",
       "      <th></th>\n",
       "      <th>frequency</th>\n",
       "    </tr>\n",
       "  </thead>\n",
       "  <tbody>\n",
       "    <tr>\n",
       "      <th>LOC</th>\n",
       "      <td>34</td>\n",
       "    </tr>\n",
       "    <tr>\n",
       "      <th>ORG</th>\n",
       "      <td>0</td>\n",
       "    </tr>\n",
       "    <tr>\n",
       "      <th>PER</th>\n",
       "      <td>4</td>\n",
       "    </tr>\n",
       "  </tbody>\n",
       "</table>\n",
       "</div>"
      ],
      "text/plain": [
       "     frequency\n",
       "LOC         34\n",
       "ORG          0\n",
       "PER          4"
      ]
     },
     "execution_count": 94,
     "metadata": {},
     "output_type": "execute_result"
    }
   ],
   "source": [
    "df"
   ]
  },
  {
   "cell_type": "code",
   "execution_count": 95,
   "id": "2930613f",
   "metadata": {
    "scrolled": false
   },
   "outputs": [
    {
     "data": {
      "text/plain": [
       "<AxesSubplot:>"
      ]
     },
     "execution_count": 95,
     "metadata": {},
     "output_type": "execute_result"
    },
    {
     "data": {
      "image/png": "[encoded data removed]",
      "text/plain": [
       "<Figure size 640x480 with 1 Axes>"
      ]
     },
     "metadata": {},
     "output_type": "display_data"
    }
   ],
   "source": [
    "df.plot.bar(y = 'frequency')"
   ]
  },
  {
   "cell_type": "code",
   "execution_count": 38,
   "id": "3bb7bdb8",
   "metadata": {},
   "outputs": [],
   "source": [
    "plt.show()"
   ]
  },
  {
   "cell_type": "code",
   "execution_count": 247,
   "id": "7f8a9ef5",
   "metadata": {},
   "outputs": [],
   "source": [
    "named_entities_only = 0\n",
    "for tags in values:\n",
    "    if 'O\\n' not in tags:\n",
    "        named_entities_only += 1"
   ]
  },
  {
   "cell_type": "code",
   "execution_count": 249,
   "id": "b21d96c3",
   "metadata": {},
   "outputs": [],
   "source": [
    "nr = 0\n",
    "lengths = {}\n",
    "for key, value in sents.items():\n",
    "    nr += 1\n",
    "    lengths[nr] = len(value)"
   ]
  },
  {
   "cell_type": "code",
   "execution_count": 250,
   "id": "513aef61",
   "metadata": {},
   "outputs": [],
   "source": [
    "data = {0: sents, 1: lengths}\n",
    "df = pd.DataFrame.from_dict(data, orient=\"columns\")\n",
    "df.columns = [\"sentence\", \"length\"]\n",
    "df['length'] = df['length'].astype('float')"
   ]
  },
  {
   "cell_type": "code",
   "execution_count": 251,
   "id": "486cadba",
   "metadata": {
    "scrolled": true
   },
   "outputs": [
    {
     "data": {
      "text/plain": [
       "1.0     6\n",
       "13.0    5\n",
       "14.0    3\n",
       "10.0    3\n",
       "3.0     3\n",
       "11.0    2\n",
       "6.0     2\n",
       "16.0    2\n",
       "2.0     1\n",
       "7.0     1\n",
       "8.0     1\n",
       "37.0    1\n",
       "26.0    1\n",
       "15.0    1\n",
       "21.0    1\n",
       "12.0    1\n",
       "18.0    1\n",
       "9.0     1\n",
       "23.0    1\n",
       "17.0    1\n",
       "Name: length, dtype: int64"
      ]
     },
     "execution_count": 251,
     "metadata": {},
     "output_type": "execute_result"
    }
   ],
   "source": [
    "df['length'].value_counts()"
   ]
  },
  {
   "cell_type": "code",
   "execution_count": 252,
   "id": "f0427408",
   "metadata": {
    "scrolled": false
   },
   "outputs": [
    {
     "data": {
      "text/plain": [
       "<AxesSubplot:ylabel='Frequency'>"
      ]
     },
     "execution_count": 252,
     "metadata": {},
     "output_type": "execute_result"
    },
    {
     "data": {
      "image/png": "[encoded data removed]",
      "text/plain": [
       "<Figure size 640x480 with 1 Axes>"
      ]
     },
     "metadata": {},
     "output_type": "display_data"
    }
   ],
   "source": [
    "df.plot.hist(bins=60)"
   ]
  },
  {
   "cell_type": "code",
   "execution_count": null,
   "id": "bfdc397f",
   "metadata": {},
   "outputs": [],
   "source": []
  }
 ],
 "metadata": {
  "kernelspec": {
   "display_name": "Python 3 (ipykernel)",
   "language": "python",
   "name": "python3"
  },
  "language_info": {
   "codemirror_mode": {
    "name": "ipython",
    "version": 3
   },
   "file_extension": ".py",
   "mimetype": "text/x-python",
   "name": "python",
   "nbconvert_exporter": "python",
   "pygments_lexer": "ipython3",
   "version": "3.9.13"
  }
 },
 "nbformat": 4,
 "nbformat_minor": 5
}
